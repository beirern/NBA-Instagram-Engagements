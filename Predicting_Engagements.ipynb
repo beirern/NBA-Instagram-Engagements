{
 "cells": [
  {
   "cell_type": "code",
   "execution_count": 1,
   "metadata": {},
   "outputs": [],
   "source": [
    "import pandas as pd\n",
    "import string\n",
    "\n",
    "from sklearn.preprocessing import LabelEncoder"
   ]
  },
  {
   "cell_type": "code",
   "execution_count": 41,
   "metadata": {
    "tags": [
     "outputPrepend"
    ]
   },
   "outputs": [
    {
     "output_type": "execute_result",
     "data": {
      "text/plain": "   Engagements  Followers at Posting                  Created   Type  \\\n0       443543              36984682  2019-05-22 00:31:55 EDT  Photo   \n1       443543              36984682  2019-05-21 23:20:41 EDT  Photo   \n2       603380              36984682  2019-05-21 21:18:51 EDT  Video   \n3       675091              36955156  2019-05-21 18:20:09 EDT  Video   \n4       675091              36955156  2019-05-21 15:04:31 EDT  Video   \n\n                                         Description  \n0  The @raptors even up the Eastern Conference Fi...  \n1  The @raptors even the Eastern Conference Final...  \n2  @sergeibaka keeps it alive for the @raptors! (...  \n3  ???? The SUPERHUMAN HANDS of Giannis & Kawhi ?...  \n4  ?? the @raptors & @bucks in transition! #NBABr...  ",
      "text/html": "<div>\n<style scoped>\n    .dataframe tbody tr th:only-of-type {\n        vertical-align: middle;\n    }\n\n    .dataframe tbody tr th {\n        vertical-align: top;\n    }\n\n    .dataframe thead th {\n        text-align: right;\n    }\n</style>\n<table border=\"1\" class=\"dataframe\">\n  <thead>\n    <tr style=\"text-align: right;\">\n      <th></th>\n      <th>Engagements</th>\n      <th>Followers at Posting</th>\n      <th>Created</th>\n      <th>Type</th>\n      <th>Description</th>\n    </tr>\n  </thead>\n  <tbody>\n    <tr>\n      <th>0</th>\n      <td>443543</td>\n      <td>36984682</td>\n      <td>2019-05-22 00:31:55 EDT</td>\n      <td>Photo</td>\n      <td>The @raptors even up the Eastern Conference Fi...</td>\n    </tr>\n    <tr>\n      <th>1</th>\n      <td>443543</td>\n      <td>36984682</td>\n      <td>2019-05-21 23:20:41 EDT</td>\n      <td>Photo</td>\n      <td>The @raptors even the Eastern Conference Final...</td>\n    </tr>\n    <tr>\n      <th>2</th>\n      <td>603380</td>\n      <td>36984682</td>\n      <td>2019-05-21 21:18:51 EDT</td>\n      <td>Video</td>\n      <td>@sergeibaka keeps it alive for the @raptors! (...</td>\n    </tr>\n    <tr>\n      <th>3</th>\n      <td>675091</td>\n      <td>36955156</td>\n      <td>2019-05-21 18:20:09 EDT</td>\n      <td>Video</td>\n      <td>???? The SUPERHUMAN HANDS of Giannis &amp; Kawhi ?...</td>\n    </tr>\n    <tr>\n      <th>4</th>\n      <td>675091</td>\n      <td>36955156</td>\n      <td>2019-05-21 15:04:31 EDT</td>\n      <td>Video</td>\n      <td>?? the @raptors &amp; @bucks in transition! #NBABr...</td>\n    </tr>\n  </tbody>\n</table>\n</div>"
     },
     "metadata": {},
     "execution_count": 41
    }
   ],
   "source": [
    "# Read in Data\n",
    "data = pd.read_csv('holdout_set.csv', encoding='cp1252')\n",
    "data.head()"
   ]
  },
  {
   "cell_type": "code",
   "execution_count": 42,
   "metadata": {},
   "outputs": [
    {
     "output_type": "execute_result",
     "data": {
      "text/plain": "   Engagements  Followers at Posting   Type  \\\n0       443543              36984682  Photo   \n1       443543              36984682  Photo   \n2       603380              36984682  Video   \n3       675091              36955156  Video   \n4       675091              36955156  Video   \n5       443543              36955156  Photo   \n6       675091              36955156  Video   \n7       675091              36955156  Video   \n8       675091              36955156  Video   \n9       675091              36928789  Video   \n\n                                         Description  Year Month Day Hour  \\\n0  The @raptors even up the Eastern Conference Fi...  2019    05  22   00   \n1  The @raptors even the Eastern Conference Final...  2019    05  21   23   \n2  @sergeibaka keeps it alive for the @raptors! (...  2019    05  21   21   \n3  ???? The SUPERHUMAN HANDS of Giannis & Kawhi ?...  2019    05  21   18   \n4  ?? the @raptors & @bucks in transition! #NBABr...  2019    05  21   15   \n5  The @warriors advance to the 2019 #NBAFinals p...  2019    05  21   02   \n6                 Big bro wins this one! #PhantomCam  2019    05  21   01   \n7  @stephencurry30 pulls up from deep to end the ...  2019    05  20   22   \n8  The @warriors move the ball to find Andrew Bog...  2019    05  20   22   \n9  ?? @money23green mic’d up in Game 3 of the WCF...  2019    05  20   15   \n\n  Minute Second  \n0     31     55  \n1     20     41  \n2     18     51  \n3     20     09  \n4     04     31  \n5     09     47  \n6     30     13  \n7     25     20  \n8     09     36  \n9     26     07  ",
      "text/html": "<div>\n<style scoped>\n    .dataframe tbody tr th:only-of-type {\n        vertical-align: middle;\n    }\n\n    .dataframe tbody tr th {\n        vertical-align: top;\n    }\n\n    .dataframe thead th {\n        text-align: right;\n    }\n</style>\n<table border=\"1\" class=\"dataframe\">\n  <thead>\n    <tr style=\"text-align: right;\">\n      <th></th>\n      <th>Engagements</th>\n      <th>Followers at Posting</th>\n      <th>Type</th>\n      <th>Description</th>\n      <th>Year</th>\n      <th>Month</th>\n      <th>Day</th>\n      <th>Hour</th>\n      <th>Minute</th>\n      <th>Second</th>\n    </tr>\n  </thead>\n  <tbody>\n    <tr>\n      <th>0</th>\n      <td>443543</td>\n      <td>36984682</td>\n      <td>Photo</td>\n      <td>The @raptors even up the Eastern Conference Fi...</td>\n      <td>2019</td>\n      <td>05</td>\n      <td>22</td>\n      <td>00</td>\n      <td>31</td>\n      <td>55</td>\n    </tr>\n    <tr>\n      <th>1</th>\n      <td>443543</td>\n      <td>36984682</td>\n      <td>Photo</td>\n      <td>The @raptors even the Eastern Conference Final...</td>\n      <td>2019</td>\n      <td>05</td>\n      <td>21</td>\n      <td>23</td>\n      <td>20</td>\n      <td>41</td>\n    </tr>\n    <tr>\n      <th>2</th>\n      <td>603380</td>\n      <td>36984682</td>\n      <td>Video</td>\n      <td>@sergeibaka keeps it alive for the @raptors! (...</td>\n      <td>2019</td>\n      <td>05</td>\n      <td>21</td>\n      <td>21</td>\n      <td>18</td>\n      <td>51</td>\n    </tr>\n    <tr>\n      <th>3</th>\n      <td>675091</td>\n      <td>36955156</td>\n      <td>Video</td>\n      <td>???? The SUPERHUMAN HANDS of Giannis &amp; Kawhi ?...</td>\n      <td>2019</td>\n      <td>05</td>\n      <td>21</td>\n      <td>18</td>\n      <td>20</td>\n      <td>09</td>\n    </tr>\n    <tr>\n      <th>4</th>\n      <td>675091</td>\n      <td>36955156</td>\n      <td>Video</td>\n      <td>?? the @raptors &amp; @bucks in transition! #NBABr...</td>\n      <td>2019</td>\n      <td>05</td>\n      <td>21</td>\n      <td>15</td>\n      <td>04</td>\n      <td>31</td>\n    </tr>\n    <tr>\n      <th>5</th>\n      <td>443543</td>\n      <td>36955156</td>\n      <td>Photo</td>\n      <td>The @warriors advance to the 2019 #NBAFinals p...</td>\n      <td>2019</td>\n      <td>05</td>\n      <td>21</td>\n      <td>02</td>\n      <td>09</td>\n      <td>47</td>\n    </tr>\n    <tr>\n      <th>6</th>\n      <td>675091</td>\n      <td>36955156</td>\n      <td>Video</td>\n      <td>Big bro wins this one! #PhantomCam</td>\n      <td>2019</td>\n      <td>05</td>\n      <td>21</td>\n      <td>01</td>\n      <td>30</td>\n      <td>13</td>\n    </tr>\n    <tr>\n      <th>7</th>\n      <td>675091</td>\n      <td>36955156</td>\n      <td>Video</td>\n      <td>@stephencurry30 pulls up from deep to end the ...</td>\n      <td>2019</td>\n      <td>05</td>\n      <td>20</td>\n      <td>22</td>\n      <td>25</td>\n      <td>20</td>\n    </tr>\n    <tr>\n      <th>8</th>\n      <td>675091</td>\n      <td>36955156</td>\n      <td>Video</td>\n      <td>The @warriors move the ball to find Andrew Bog...</td>\n      <td>2019</td>\n      <td>05</td>\n      <td>20</td>\n      <td>22</td>\n      <td>09</td>\n      <td>36</td>\n    </tr>\n    <tr>\n      <th>9</th>\n      <td>675091</td>\n      <td>36928789</td>\n      <td>Video</td>\n      <td>?? @money23green mic’d up in Game 3 of the WCF...</td>\n      <td>2019</td>\n      <td>05</td>\n      <td>20</td>\n      <td>15</td>\n      <td>26</td>\n      <td>07</td>\n    </tr>\n  </tbody>\n</table>\n</div>"
     },
     "metadata": {},
     "execution_count": 42
    }
   ],
   "source": [
    "# Split data to Year/Month/Day Hour/Minute/Seconds columns\n",
    "data['Year'] = data['Created'].apply(lambda date: date.split('-')[0].strip())\n",
    "data['Month'] = data['Created'].apply(lambda date: date.split('-')[1].strip())\n",
    "data['Day'] = data['Created'].apply(lambda date: date.split('-')[2][:2].strip())\n",
    "\n",
    "data['Hour'] = data['Created'].apply(lambda date: date.split(' ')[1].split(':')[0].strip())\n",
    "data['Minute'] = data['Created'].apply(lambda date: date.split(' ')[1].split(':')[1].strip())\n",
    "data['Second'] = data['Created'].apply(lambda date: date.split(' ')[1].split(':')[2].strip())\n",
    "\n",
    "del data['Created']\n",
    "data.head(10)"
   ]
  },
  {
   "cell_type": "code",
   "execution_count": 45,
   "metadata": {},
   "outputs": [
    {
     "output_type": "execute_result",
     "data": {
      "text/plain": "   Engagements  Followers at Posting  Type  \\\n0       443543              36984682     1   \n1       443543              36984682     1   \n2       603380              36984682     2   \n3       675091              36955156     2   \n4       675091              36955156     2   \n\n                                         Description  Year Month Day Hour  \\\n0  The @raptors even up the Eastern Conference Fi...  2019    05  22   00   \n1  The @raptors even the Eastern Conference Final...  2019    05  21   23   \n2  @sergeibaka keeps it alive for the @raptors! (...  2019    05  21   21   \n3  ???? The SUPERHUMAN HANDS of Giannis & Kawhi ?...  2019    05  21   18   \n4  ?? the @raptors & @bucks in transition! #NBABr...  2019    05  21   15   \n\n  Minute Second  \n0     31     55  \n1     20     41  \n2     18     51  \n3     20     09  \n4     04     31  ",
      "text/html": "<div>\n<style scoped>\n    .dataframe tbody tr th:only-of-type {\n        vertical-align: middle;\n    }\n\n    .dataframe tbody tr th {\n        vertical-align: top;\n    }\n\n    .dataframe thead th {\n        text-align: right;\n    }\n</style>\n<table border=\"1\" class=\"dataframe\">\n  <thead>\n    <tr style=\"text-align: right;\">\n      <th></th>\n      <th>Engagements</th>\n      <th>Followers at Posting</th>\n      <th>Type</th>\n      <th>Description</th>\n      <th>Year</th>\n      <th>Month</th>\n      <th>Day</th>\n      <th>Hour</th>\n      <th>Minute</th>\n      <th>Second</th>\n    </tr>\n  </thead>\n  <tbody>\n    <tr>\n      <th>0</th>\n      <td>443543</td>\n      <td>36984682</td>\n      <td>1</td>\n      <td>The @raptors even up the Eastern Conference Fi...</td>\n      <td>2019</td>\n      <td>05</td>\n      <td>22</td>\n      <td>00</td>\n      <td>31</td>\n      <td>55</td>\n    </tr>\n    <tr>\n      <th>1</th>\n      <td>443543</td>\n      <td>36984682</td>\n      <td>1</td>\n      <td>The @raptors even the Eastern Conference Final...</td>\n      <td>2019</td>\n      <td>05</td>\n      <td>21</td>\n      <td>23</td>\n      <td>20</td>\n      <td>41</td>\n    </tr>\n    <tr>\n      <th>2</th>\n      <td>603380</td>\n      <td>36984682</td>\n      <td>2</td>\n      <td>@sergeibaka keeps it alive for the @raptors! (...</td>\n      <td>2019</td>\n      <td>05</td>\n      <td>21</td>\n      <td>21</td>\n      <td>18</td>\n      <td>51</td>\n    </tr>\n    <tr>\n      <th>3</th>\n      <td>675091</td>\n      <td>36955156</td>\n      <td>2</td>\n      <td>???? The SUPERHUMAN HANDS of Giannis &amp; Kawhi ?...</td>\n      <td>2019</td>\n      <td>05</td>\n      <td>21</td>\n      <td>18</td>\n      <td>20</td>\n      <td>09</td>\n    </tr>\n    <tr>\n      <th>4</th>\n      <td>675091</td>\n      <td>36955156</td>\n      <td>2</td>\n      <td>?? the @raptors &amp; @bucks in transition! #NBABr...</td>\n      <td>2019</td>\n      <td>05</td>\n      <td>21</td>\n      <td>15</td>\n      <td>04</td>\n      <td>31</td>\n    </tr>\n  </tbody>\n</table>\n</div>"
     },
     "metadata": {},
     "execution_count": 45
    }
   ],
   "source": [
    "# Label Encode Type Column\n",
    "label_encoder = LabelEncoder()\n",
    "data['Type'] = label_encoder.fit_transform(data['Type'])\n",
    "\n",
    "data.head()"
   ]
  },
  {
   "cell_type": "code",
   "execution_count": 49,
   "metadata": {},
   "outputs": [
    {
     "output_type": "execute_result",
     "data": {
      "text/plain": "   Engagements  Followers at Posting  Type  \\\n0       443543              36984682     1   \n1       443543              36984682     1   \n2       603380              36984682     2   \n3       675091              36955156     2   \n4       675091              36955156     2   \n5       443543              36955156     1   \n6       675091              36955156     2   \n\n                                         Description  Year Month Day Hour  \\\n0  The @raptors even up the Eastern Conference Fi...  2019    05  22   00   \n1  The @raptors even the Eastern Conference Final...  2019    05  21   23   \n2  @sergeibaka keeps it alive for the @raptors! (...  2019    05  21   21   \n3  ???? The SUPERHUMAN HANDS of Giannis & Kawhi ?...  2019    05  21   18   \n4  ?? the @raptors & @bucks in transition! #NBABr...  2019    05  21   15   \n5  The @warriors advance to the 2019 #NBAFinals p...  2019    05  21   02   \n6                 Big bro wins this one! #PhantomCam  2019    05  21   01   \n\n  Minute Second  \n0     31     55  \n1     20     41  \n2     18     51  \n3     20     09  \n4     04     31  \n5     09     47  \n6     30     13  ",
      "text/html": "<div>\n<style scoped>\n    .dataframe tbody tr th:only-of-type {\n        vertical-align: middle;\n    }\n\n    .dataframe tbody tr th {\n        vertical-align: top;\n    }\n\n    .dataframe thead th {\n        text-align: right;\n    }\n</style>\n<table border=\"1\" class=\"dataframe\">\n  <thead>\n    <tr style=\"text-align: right;\">\n      <th></th>\n      <th>Engagements</th>\n      <th>Followers at Posting</th>\n      <th>Type</th>\n      <th>Description</th>\n      <th>Year</th>\n      <th>Month</th>\n      <th>Day</th>\n      <th>Hour</th>\n      <th>Minute</th>\n      <th>Second</th>\n    </tr>\n  </thead>\n  <tbody>\n    <tr>\n      <th>0</th>\n      <td>443543</td>\n      <td>36984682</td>\n      <td>1</td>\n      <td>The @raptors even up the Eastern Conference Fi...</td>\n      <td>2019</td>\n      <td>05</td>\n      <td>22</td>\n      <td>00</td>\n      <td>31</td>\n      <td>55</td>\n    </tr>\n    <tr>\n      <th>1</th>\n      <td>443543</td>\n      <td>36984682</td>\n      <td>1</td>\n      <td>The @raptors even the Eastern Conference Final...</td>\n      <td>2019</td>\n      <td>05</td>\n      <td>21</td>\n      <td>23</td>\n      <td>20</td>\n      <td>41</td>\n    </tr>\n    <tr>\n      <th>2</th>\n      <td>603380</td>\n      <td>36984682</td>\n      <td>2</td>\n      <td>@sergeibaka keeps it alive for the @raptors! (...</td>\n      <td>2019</td>\n      <td>05</td>\n      <td>21</td>\n      <td>21</td>\n      <td>18</td>\n      <td>51</td>\n    </tr>\n    <tr>\n      <th>3</th>\n      <td>675091</td>\n      <td>36955156</td>\n      <td>2</td>\n      <td>???? The SUPERHUMAN HANDS of Giannis &amp; Kawhi ?...</td>\n      <td>2019</td>\n      <td>05</td>\n      <td>21</td>\n      <td>18</td>\n      <td>20</td>\n      <td>09</td>\n    </tr>\n    <tr>\n      <th>4</th>\n      <td>675091</td>\n      <td>36955156</td>\n      <td>2</td>\n      <td>?? the @raptors &amp; @bucks in transition! #NBABr...</td>\n      <td>2019</td>\n      <td>05</td>\n      <td>21</td>\n      <td>15</td>\n      <td>04</td>\n      <td>31</td>\n    </tr>\n    <tr>\n      <th>5</th>\n      <td>443543</td>\n      <td>36955156</td>\n      <td>1</td>\n      <td>The @warriors advance to the 2019 #NBAFinals p...</td>\n      <td>2019</td>\n      <td>05</td>\n      <td>21</td>\n      <td>02</td>\n      <td>09</td>\n      <td>47</td>\n    </tr>\n    <tr>\n      <th>6</th>\n      <td>675091</td>\n      <td>36955156</td>\n      <td>2</td>\n      <td>Big bro wins this one! #PhantomCam</td>\n      <td>2019</td>\n      <td>05</td>\n      <td>21</td>\n      <td>01</td>\n      <td>30</td>\n      <td>13</td>\n    </tr>\n  </tbody>\n</table>\n</div>"
     },
     "metadata": {},
     "execution_count": 49
    }
   ],
   "source": [
    "# Strip whitespace from Description before any other processing\n",
    "data['Description'] = data['Description'].apply(lambda desc: desc.strip())\n",
    "data.head(7)"
   ]
  },
  {
   "cell_type": "code",
   "execution_count": 56,
   "metadata": {},
   "outputs": [
    {
     "output_type": "execute_result",
     "data": {
      "text/plain": "   Engagements  Followers at Posting  Type  \\\n0       443543              36984682     1   \n1       443543              36984682     1   \n2       603380              36984682     2   \n3       675091              36955156     2   \n4       675091              36955156     2   \n\n                                         Description  Year Month Day Hour  \\\n0  The @raptors even up the Eastern Conference Fi...  2019    05  22   00   \n1  The @raptors even the Eastern Conference Final...  2019    05  21   23   \n2  @sergeibaka keeps it alive for the @raptors! (...  2019    05  21   21   \n3  ???? The SUPERHUMAN HANDS of Giannis & Kawhi ?...  2019    05  21   18   \n4  ?? the @raptors & @bucks in transition! #NBABr...  2019    05  21   15   \n\n  Minute Second                                  Description_Clean  \n0     31     55  The raptors even up the Eastern Conference Fin...  \n1     20     41  The raptors even the Eastern Conference Finals...  \n2     18     51  sergeibaka keeps it alive for the raptors  nba...  \n3     20     09   The SUPERHUMAN HANDS of Giannis  Kawhi \\n\\n b...  \n4     04     31   the raptors  bucks in transition NBABreakdown...  ",
      "text/html": "<div>\n<style scoped>\n    .dataframe tbody tr th:only-of-type {\n        vertical-align: middle;\n    }\n\n    .dataframe tbody tr th {\n        vertical-align: top;\n    }\n\n    .dataframe thead th {\n        text-align: right;\n    }\n</style>\n<table border=\"1\" class=\"dataframe\">\n  <thead>\n    <tr style=\"text-align: right;\">\n      <th></th>\n      <th>Engagements</th>\n      <th>Followers at Posting</th>\n      <th>Type</th>\n      <th>Description</th>\n      <th>Year</th>\n      <th>Month</th>\n      <th>Day</th>\n      <th>Hour</th>\n      <th>Minute</th>\n      <th>Second</th>\n      <th>Description_Clean</th>\n    </tr>\n  </thead>\n  <tbody>\n    <tr>\n      <th>0</th>\n      <td>443543</td>\n      <td>36984682</td>\n      <td>1</td>\n      <td>The @raptors even up the Eastern Conference Fi...</td>\n      <td>2019</td>\n      <td>05</td>\n      <td>22</td>\n      <td>00</td>\n      <td>31</td>\n      <td>55</td>\n      <td>The raptors even up the Eastern Conference Fin...</td>\n    </tr>\n    <tr>\n      <th>1</th>\n      <td>443543</td>\n      <td>36984682</td>\n      <td>1</td>\n      <td>The @raptors even the Eastern Conference Final...</td>\n      <td>2019</td>\n      <td>05</td>\n      <td>21</td>\n      <td>23</td>\n      <td>20</td>\n      <td>41</td>\n      <td>The raptors even the Eastern Conference Finals...</td>\n    </tr>\n    <tr>\n      <th>2</th>\n      <td>603380</td>\n      <td>36984682</td>\n      <td>2</td>\n      <td>@sergeibaka keeps it alive for the @raptors! (...</td>\n      <td>2019</td>\n      <td>05</td>\n      <td>21</td>\n      <td>21</td>\n      <td>18</td>\n      <td>51</td>\n      <td>sergeibaka keeps it alive for the raptors  nba...</td>\n    </tr>\n    <tr>\n      <th>3</th>\n      <td>675091</td>\n      <td>36955156</td>\n      <td>2</td>\n      <td>???? The SUPERHUMAN HANDS of Giannis &amp; Kawhi ?...</td>\n      <td>2019</td>\n      <td>05</td>\n      <td>21</td>\n      <td>18</td>\n      <td>20</td>\n      <td>09</td>\n      <td>The SUPERHUMAN HANDS of Giannis  Kawhi \\n\\n b...</td>\n    </tr>\n    <tr>\n      <th>4</th>\n      <td>675091</td>\n      <td>36955156</td>\n      <td>2</td>\n      <td>?? the @raptors &amp; @bucks in transition! #NBABr...</td>\n      <td>2019</td>\n      <td>05</td>\n      <td>21</td>\n      <td>15</td>\n      <td>04</td>\n      <td>31</td>\n      <td>the raptors  bucks in transition NBABreakdown...</td>\n    </tr>\n  </tbody>\n</table>\n</div>"
     },
     "metadata": {},
     "execution_count": 56
    }
   ],
   "source": [
    "def remove_punctuation(text):\n",
    "    if type(text) != str:\n",
    "        return ''\n",
    "    return text.translate(str.maketrans('', '', string.punctuation))\n",
    "\n",
    "data['Description_Clean'] = data['Description'].apply(remove_punctuation)\n",
    "data.head()"
   ]
  },
  {
   "cell_type": "code",
   "execution_count": 59,
   "metadata": {},
   "outputs": [
    {
     "output_type": "execute_result",
     "data": {
      "text/plain": "'The raptors even up the Eastern Conference Finals 22'"
     },
     "metadata": {},
     "execution_count": 59
    }
   ],
   "source": [
    "data['Description_Clean'][0]"
   ]
  },
  {
   "cell_type": "code",
   "execution_count": null,
   "metadata": {},
   "outputs": [],
   "source": []
  }
 ],
 "metadata": {
  "language_info": {
   "codemirror_mode": {
    "name": "ipython",
    "version": 3
   },
   "file_extension": ".py",
   "mimetype": "text/x-python",
   "name": "python",
   "nbconvert_exporter": "python",
   "pygments_lexer": "ipython3",
   "version": "3.7.3-final"
  },
  "orig_nbformat": 2,
  "kernelspec": {
   "name": "python37364bitenvvenv5b23d70c0473448986dd1089812db388",
   "display_name": "Python 3.7.3 64-bit ('env': venv)"
  }
 },
 "nbformat": 4,
 "nbformat_minor": 2
}