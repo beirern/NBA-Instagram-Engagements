{
 "cells": [
  {
   "cell_type": "markdown",
   "metadata": {},
   "source": [
    "# Predicting NBA Engagements on Instagram\n",
    "\n",
    "## Getting Setup"
   ]
  },
  {
   "cell_type": "code",
   "execution_count": 1,
   "metadata": {},
   "outputs": [],
   "source": [
    "import pandas as pd\n",
    "import numpy as np\n",
    "import string\n",
    "import matplotlib.pyplot as plt\n",
    "\n",
    "from sklearn.model_selection import train_test_split\n",
    "from sklearn.feature_extraction import DictVectorizer\n",
    "from sklearn.feature_extraction.text import TfidfVectorizer\n",
    "from sklearn.preprocessing import normalize"
   ]
  },
  {
   "cell_type": "markdown",
   "metadata": {},
   "source": [
    "## Preprossesing the Data"
   ]
  },
  {
   "cell_type": "markdown",
   "metadata": {},
   "source": [
    "The data we want for training is in the training_set.csv file.\n",
    "\n",
    "We will be using trained models to predict engagements for the post in the holdout_set.csv."
   ]
  },
  {
   "cell_type": "code",
   "execution_count": 2,
   "metadata": {
    "tags": [
     "outputPrepend"
    ]
   },
   "outputs": [
    {
     "output_type": "execute_result",
     "data": {
      "text/plain": "   Engagements  Followers at Posting                  Created   Type  \\\n0       502093              36984682  2019-05-21 23:30:51 EDT  Video   \n1       603380              36984682  2019-05-21 22:53:33 EDT  Video   \n2       603380              36984682  2019-05-21 22:19:58 EDT  Video   \n3       725100              36984682  2019-05-21 22:02:41 EDT  Video   \n4       661446              36984682  2019-05-21 20:47:49 EDT  Video   \n\n                                         Description  \n0  The @raptors bench trio of @sergeibaka @norman...  \n1  @kyle_lowry7 pulls from deep for the @raptors ...  \n2     @k_mid22 with some english on the @bucks dime!  \n3        Kawhi punches it home with the left on TNT!  \n4  @giannis_an34 goes baseline early to rock the ...  ",
      "text/html": "<div>\n<style scoped>\n    .dataframe tbody tr th:only-of-type {\n        vertical-align: middle;\n    }\n\n    .dataframe tbody tr th {\n        vertical-align: top;\n    }\n\n    .dataframe thead th {\n        text-align: right;\n    }\n</style>\n<table border=\"1\" class=\"dataframe\">\n  <thead>\n    <tr style=\"text-align: right;\">\n      <th></th>\n      <th>Engagements</th>\n      <th>Followers at Posting</th>\n      <th>Created</th>\n      <th>Type</th>\n      <th>Description</th>\n    </tr>\n  </thead>\n  <tbody>\n    <tr>\n      <th>0</th>\n      <td>502093</td>\n      <td>36984682</td>\n      <td>2019-05-21 23:30:51 EDT</td>\n      <td>Video</td>\n      <td>The @raptors bench trio of @sergeibaka @norman...</td>\n    </tr>\n    <tr>\n      <th>1</th>\n      <td>603380</td>\n      <td>36984682</td>\n      <td>2019-05-21 22:53:33 EDT</td>\n      <td>Video</td>\n      <td>@kyle_lowry7 pulls from deep for the @raptors ...</td>\n    </tr>\n    <tr>\n      <th>2</th>\n      <td>603380</td>\n      <td>36984682</td>\n      <td>2019-05-21 22:19:58 EDT</td>\n      <td>Video</td>\n      <td>@k_mid22 with some english on the @bucks dime!</td>\n    </tr>\n    <tr>\n      <th>3</th>\n      <td>725100</td>\n      <td>36984682</td>\n      <td>2019-05-21 22:02:41 EDT</td>\n      <td>Video</td>\n      <td>Kawhi punches it home with the left on TNT!</td>\n    </tr>\n    <tr>\n      <th>4</th>\n      <td>661446</td>\n      <td>36984682</td>\n      <td>2019-05-21 20:47:49 EDT</td>\n      <td>Video</td>\n      <td>@giannis_an34 goes baseline early to rock the ...</td>\n    </tr>\n  </tbody>\n</table>\n</div>"
     },
     "metadata": {},
     "execution_count": 2
    }
   ],
   "source": [
    "# Read in Data\n",
    "data = pd.read_csv('training_set.csv', encoding='cp1252')\n",
    "data.head()"
   ]
  },
  {
   "cell_type": "markdown",
   "metadata": {},
   "source": [
    "After reading in the data we can see some features we will have to engineer: Created, Type, and Description.\n",
    "\n",
    "Before moving to those I am going to standardize the Engagements and Followers at Posting features.\n",
    "\n",
    "Due to the large difference in mean and variance between the 2 columns I thought standardizing would be good for regression.\n",
    "\n",
    "I saved the mean engagements and standard deviation so that we could convert the predictions back to the actual numbers."
   ]
  },
  {
   "cell_type": "code",
   "execution_count": 6,
   "metadata": {},
   "outputs": [
    {
     "output_type": "execute_result",
     "data": {
      "text/plain": "   Engagements  Followers at Posting  Type  \\\n0    -0.503268              1.749016     0   \n1     0.061735              1.749016     0   \n2     0.061735              1.749016     0   \n3     0.740717              1.749016     0   \n4     0.385641              1.749016     0   \n\n                                         Description  Year Month Day Hour  \\\n0  The @raptors bench trio of @sergeibaka @norman...  2019    05  21   23   \n1  @kylelowry7 pulls from deep for the @raptors i...  2019    05  21   22   \n2       @kmid22 with some english on the @bucks dime  2019    05  21   22   \n3         Kawhi punches it home with the left on TNT  2019    05  21   22   \n4  @giannisan34 goes baseline early to rock the r...  2019    05  21   20   \n\n  Minute Second  \n0     30     51  \n1     53     33  \n2     19     58  \n3     02     41  \n4     47     49  ",
      "text/html": "<div>\n<style scoped>\n    .dataframe tbody tr th:only-of-type {\n        vertical-align: middle;\n    }\n\n    .dataframe tbody tr th {\n        vertical-align: top;\n    }\n\n    .dataframe thead th {\n        text-align: right;\n    }\n</style>\n<table border=\"1\" class=\"dataframe\">\n  <thead>\n    <tr style=\"text-align: right;\">\n      <th></th>\n      <th>Engagements</th>\n      <th>Followers at Posting</th>\n      <th>Type</th>\n      <th>Description</th>\n      <th>Year</th>\n      <th>Month</th>\n      <th>Day</th>\n      <th>Hour</th>\n      <th>Minute</th>\n      <th>Second</th>\n    </tr>\n  </thead>\n  <tbody>\n    <tr>\n      <th>0</th>\n      <td>-0.503268</td>\n      <td>1.749016</td>\n      <td>0</td>\n      <td>The @raptors bench trio of @sergeibaka @norman...</td>\n      <td>2019</td>\n      <td>05</td>\n      <td>21</td>\n      <td>23</td>\n      <td>30</td>\n      <td>51</td>\n    </tr>\n    <tr>\n      <th>1</th>\n      <td>0.061735</td>\n      <td>1.749016</td>\n      <td>0</td>\n      <td>@kylelowry7 pulls from deep for the @raptors i...</td>\n      <td>2019</td>\n      <td>05</td>\n      <td>21</td>\n      <td>22</td>\n      <td>53</td>\n      <td>33</td>\n    </tr>\n    <tr>\n      <th>2</th>\n      <td>0.061735</td>\n      <td>1.749016</td>\n      <td>0</td>\n      <td>@kmid22 with some english on the @bucks dime</td>\n      <td>2019</td>\n      <td>05</td>\n      <td>21</td>\n      <td>22</td>\n      <td>19</td>\n      <td>58</td>\n    </tr>\n    <tr>\n      <th>3</th>\n      <td>0.740717</td>\n      <td>1.749016</td>\n      <td>0</td>\n      <td>Kawhi punches it home with the left on TNT</td>\n      <td>2019</td>\n      <td>05</td>\n      <td>21</td>\n      <td>22</td>\n      <td>02</td>\n      <td>41</td>\n    </tr>\n    <tr>\n      <th>4</th>\n      <td>0.385641</td>\n      <td>1.749016</td>\n      <td>0</td>\n      <td>@giannisan34 goes baseline early to rock the r...</td>\n      <td>2019</td>\n      <td>05</td>\n      <td>21</td>\n      <td>20</td>\n      <td>47</td>\n      <td>49</td>\n    </tr>\n  </tbody>\n</table>\n</div>"
     },
     "metadata": {},
     "execution_count": 6
    }
   ],
   "source": [
    "# Standardize Engagements and Followers at Posting\n",
    "def standardize(v):\n",
    "    \"\"\"\n",
    "    Takes a single column of a DataFrame and returns a new column \n",
    "    with the data standardized (mean 0, std deviation 1)\n",
    "    \"\"\"\n",
    "    std = v.std()\n",
    "    if std == 0:\n",
    "        return np.zeros(len(v))\n",
    "    else:\n",
    "        return (v - v.mean()) / std\n",
    "\n",
    "data['Followers at Posting'] = standardize(data['Followers at Posting'])\n",
    "\n",
    "mean_engagements = data['Engagements'].mean()\n",
    "sd_engagements = data['Engagements'].std()\n",
    "data['Engagements'] = standardize(data['Engagements'])\n",
    "\n",
    "data.head()"
   ]
  },
  {
   "cell_type": "markdown",
   "metadata": {},
   "source": [
    "Second the Created Column:\n",
    "The Created column will get split up in 2 ways:\n",
    "\n",
    "1. Into 6 new columns: Year, Month, Day, Hour, Minute, Second.\n",
    "2. Into n-1 columns for OneHotEncoding\n",
    "\n",
    "We'll start with the first way."
   ]
  },
  {
   "cell_type": "code",
   "execution_count": 3,
   "metadata": {},
   "outputs": [
    {
     "output_type": "execute_result",
     "data": {
      "text/plain": "   Engagements  Followers at Posting   Type  \\\n0       502093              36984682  Video   \n1       603380              36984682  Video   \n2       603380              36984682  Video   \n3       725100              36984682  Video   \n4       661446              36984682  Video   \n5       322444              36955156  Photo   \n6       722540              36955156  Video   \n7       339265              36955156  Photo   \n8       443330              36955156  Photo   \n9       652193              36955156  Video   \n\n                                         Description  Year Month Day Hour  \\\n0  The @raptors bench trio of @sergeibaka @norman...  2019    05  21   23   \n1  @kyle_lowry7 pulls from deep for the @raptors ...  2019    05  21   22   \n2     @k_mid22 with some english on the @bucks dime!  2019    05  21   22   \n3        Kawhi punches it home with the left on TNT!  2019    05  21   22   \n4  @giannis_an34 goes baseline early to rock the ...  2019    05  21   20   \n5  Congrats to the 2018-19 NBA All-Rookie First T...  2019    05  21   14   \n6  The @warriors locked in for four games to adva...  2019    05  21   12   \n7  Will the @bucks take a commanding 3-1 lead... ...  2019    05  21   08   \n8  TAP to SHOP the @warriors Western Conference C...  2019    05  21   00   \n9  Hey @stephencurry30... that was the first time...  2019    05  21   00   \n\n  Minute Second  \n0     30     51  \n1     53     33  \n2     19     58  \n3     02     41  \n4     47     49  \n5     02     32  \n6     30     53  \n7     59     02  \n8     48     16  \n9     38     18  ",
      "text/html": "<div>\n<style scoped>\n    .dataframe tbody tr th:only-of-type {\n        vertical-align: middle;\n    }\n\n    .dataframe tbody tr th {\n        vertical-align: top;\n    }\n\n    .dataframe thead th {\n        text-align: right;\n    }\n</style>\n<table border=\"1\" class=\"dataframe\">\n  <thead>\n    <tr style=\"text-align: right;\">\n      <th></th>\n      <th>Engagements</th>\n      <th>Followers at Posting</th>\n      <th>Type</th>\n      <th>Description</th>\n      <th>Year</th>\n      <th>Month</th>\n      <th>Day</th>\n      <th>Hour</th>\n      <th>Minute</th>\n      <th>Second</th>\n    </tr>\n  </thead>\n  <tbody>\n    <tr>\n      <th>0</th>\n      <td>502093</td>\n      <td>36984682</td>\n      <td>Video</td>\n      <td>The @raptors bench trio of @sergeibaka @norman...</td>\n      <td>2019</td>\n      <td>05</td>\n      <td>21</td>\n      <td>23</td>\n      <td>30</td>\n      <td>51</td>\n    </tr>\n    <tr>\n      <th>1</th>\n      <td>603380</td>\n      <td>36984682</td>\n      <td>Video</td>\n      <td>@kyle_lowry7 pulls from deep for the @raptors ...</td>\n      <td>2019</td>\n      <td>05</td>\n      <td>21</td>\n      <td>22</td>\n      <td>53</td>\n      <td>33</td>\n    </tr>\n    <tr>\n      <th>2</th>\n      <td>603380</td>\n      <td>36984682</td>\n      <td>Video</td>\n      <td>@k_mid22 with some english on the @bucks dime!</td>\n      <td>2019</td>\n      <td>05</td>\n      <td>21</td>\n      <td>22</td>\n      <td>19</td>\n      <td>58</td>\n    </tr>\n    <tr>\n      <th>3</th>\n      <td>725100</td>\n      <td>36984682</td>\n      <td>Video</td>\n      <td>Kawhi punches it home with the left on TNT!</td>\n      <td>2019</td>\n      <td>05</td>\n      <td>21</td>\n      <td>22</td>\n      <td>02</td>\n      <td>41</td>\n    </tr>\n    <tr>\n      <th>4</th>\n      <td>661446</td>\n      <td>36984682</td>\n      <td>Video</td>\n      <td>@giannis_an34 goes baseline early to rock the ...</td>\n      <td>2019</td>\n      <td>05</td>\n      <td>21</td>\n      <td>20</td>\n      <td>47</td>\n      <td>49</td>\n    </tr>\n    <tr>\n      <th>5</th>\n      <td>322444</td>\n      <td>36955156</td>\n      <td>Photo</td>\n      <td>Congrats to the 2018-19 NBA All-Rookie First T...</td>\n      <td>2019</td>\n      <td>05</td>\n      <td>21</td>\n      <td>14</td>\n      <td>02</td>\n      <td>32</td>\n    </tr>\n    <tr>\n      <th>6</th>\n      <td>722540</td>\n      <td>36955156</td>\n      <td>Video</td>\n      <td>The @warriors locked in for four games to adva...</td>\n      <td>2019</td>\n      <td>05</td>\n      <td>21</td>\n      <td>12</td>\n      <td>30</td>\n      <td>53</td>\n    </tr>\n    <tr>\n      <th>7</th>\n      <td>339265</td>\n      <td>36955156</td>\n      <td>Photo</td>\n      <td>Will the @bucks take a commanding 3-1 lead... ...</td>\n      <td>2019</td>\n      <td>05</td>\n      <td>21</td>\n      <td>08</td>\n      <td>59</td>\n      <td>02</td>\n    </tr>\n    <tr>\n      <th>8</th>\n      <td>443330</td>\n      <td>36955156</td>\n      <td>Photo</td>\n      <td>TAP to SHOP the @warriors Western Conference C...</td>\n      <td>2019</td>\n      <td>05</td>\n      <td>21</td>\n      <td>00</td>\n      <td>48</td>\n      <td>16</td>\n    </tr>\n    <tr>\n      <th>9</th>\n      <td>652193</td>\n      <td>36955156</td>\n      <td>Video</td>\n      <td>Hey @stephencurry30... that was the first time...</td>\n      <td>2019</td>\n      <td>05</td>\n      <td>21</td>\n      <td>00</td>\n      <td>38</td>\n      <td>18</td>\n    </tr>\n  </tbody>\n</table>\n</div>"
     },
     "metadata": {},
     "execution_count": 3
    }
   ],
   "source": [
    "# Split data to Year/Month/Day Hour/Minute/Seconds columns\n",
    "data['Year'] = data['Created'].apply(lambda date: date.split('-')[0].strip())\n",
    "data['Month'] = data['Created'].apply(lambda date: date.split('-')[1].strip())\n",
    "data['Day'] = data['Created'].apply(lambda date: date.split('-')[2][:2].strip())\n",
    "\n",
    "data['Hour'] = data['Created'].apply(lambda date: date.split(' ')[1].split(':')[0].strip())\n",
    "data['Minute'] = data['Created'].apply(lambda date: date.split(' ')[1].split(':')[1].strip())\n",
    "data['Second'] = data['Created'].apply(lambda date: date.split(' ')[1].split(':')[2].strip())\n",
    "\n",
    "del data['Created']\n",
    "data.head(10)"
   ]
  },
  {
   "cell_type": "markdown",
   "metadata": {},
   "source": [
    "As you can see above, we now have 6 columns with the different parts of the time (timezone emitted since they are always EDT).\n",
    "\n",
    "Before trying OneHotEncoding we will essentially LabelEncode the Type column manually into integers rather than objects."
   ]
  },
  {
   "cell_type": "code",
   "execution_count": 4,
   "metadata": {},
   "outputs": [
    {
     "output_type": "stream",
     "name": "stdout",
     "text": "['Video' 'Photo' 'Album']\n[0 1 2]\n"
    },
    {
     "output_type": "execute_result",
     "data": {
      "text/plain": "   Engagements  Followers at Posting  Type  \\\n0       502093              36984682     0   \n1       603380              36984682     0   \n2       603380              36984682     0   \n3       725100              36984682     0   \n4       661446              36984682     0   \n\n                                         Description  Year Month Day Hour  \\\n0  The @raptors bench trio of @sergeibaka @norman...  2019    05  21   23   \n1  @kyle_lowry7 pulls from deep for the @raptors ...  2019    05  21   22   \n2     @k_mid22 with some english on the @bucks dime!  2019    05  21   22   \n3        Kawhi punches it home with the left on TNT!  2019    05  21   22   \n4  @giannis_an34 goes baseline early to rock the ...  2019    05  21   20   \n\n  Minute Second  \n0     30     51  \n1     53     33  \n2     19     58  \n3     02     41  \n4     47     49  ",
      "text/html": "<div>\n<style scoped>\n    .dataframe tbody tr th:only-of-type {\n        vertical-align: middle;\n    }\n\n    .dataframe tbody tr th {\n        vertical-align: top;\n    }\n\n    .dataframe thead th {\n        text-align: right;\n    }\n</style>\n<table border=\"1\" class=\"dataframe\">\n  <thead>\n    <tr style=\"text-align: right;\">\n      <th></th>\n      <th>Engagements</th>\n      <th>Followers at Posting</th>\n      <th>Type</th>\n      <th>Description</th>\n      <th>Year</th>\n      <th>Month</th>\n      <th>Day</th>\n      <th>Hour</th>\n      <th>Minute</th>\n      <th>Second</th>\n    </tr>\n  </thead>\n  <tbody>\n    <tr>\n      <th>0</th>\n      <td>502093</td>\n      <td>36984682</td>\n      <td>0</td>\n      <td>The @raptors bench trio of @sergeibaka @norman...</td>\n      <td>2019</td>\n      <td>05</td>\n      <td>21</td>\n      <td>23</td>\n      <td>30</td>\n      <td>51</td>\n    </tr>\n    <tr>\n      <th>1</th>\n      <td>603380</td>\n      <td>36984682</td>\n      <td>0</td>\n      <td>@kyle_lowry7 pulls from deep for the @raptors ...</td>\n      <td>2019</td>\n      <td>05</td>\n      <td>21</td>\n      <td>22</td>\n      <td>53</td>\n      <td>33</td>\n    </tr>\n    <tr>\n      <th>2</th>\n      <td>603380</td>\n      <td>36984682</td>\n      <td>0</td>\n      <td>@k_mid22 with some english on the @bucks dime!</td>\n      <td>2019</td>\n      <td>05</td>\n      <td>21</td>\n      <td>22</td>\n      <td>19</td>\n      <td>58</td>\n    </tr>\n    <tr>\n      <th>3</th>\n      <td>725100</td>\n      <td>36984682</td>\n      <td>0</td>\n      <td>Kawhi punches it home with the left on TNT!</td>\n      <td>2019</td>\n      <td>05</td>\n      <td>21</td>\n      <td>22</td>\n      <td>02</td>\n      <td>41</td>\n    </tr>\n    <tr>\n      <th>4</th>\n      <td>661446</td>\n      <td>36984682</td>\n      <td>0</td>\n      <td>@giannis_an34 goes baseline early to rock the ...</td>\n      <td>2019</td>\n      <td>05</td>\n      <td>21</td>\n      <td>20</td>\n      <td>47</td>\n      <td>49</td>\n    </tr>\n  </tbody>\n</table>\n</div>"
     },
     "metadata": {},
     "execution_count": 4
    }
   ],
   "source": [
    "# Label Encode Type Column\n",
    "print(data['Type'].unique())\n",
    "data['Type'] = data['Type'].apply(lambda type: 0 if type == 'Video' else (1 if type == 'Photo' else 2))\n",
    "print(data['Type'].unique())\n",
    "\n",
    "data.head()"
   ]
  },
  {
   "cell_type": "markdown",
   "metadata": {},
   "source": [
    "As for the description we need to split it up into a new form. We will try using a DictVectorizer first.\n",
    "\n",
    "Essentially we will get the count of each word in each post and then make each individual word a label.\n",
    "\n",
    "Each post will then fill in the count of each word.\n",
    "\n",
    "First we will remove punctuation except for the \"@\" and \"#\" symbols because they special for instagram."
   ]
  },
  {
   "cell_type": "code",
   "execution_count": 5,
   "metadata": {},
   "outputs": [
    {
     "output_type": "execute_result",
     "data": {
      "text/plain": "   Engagements  Followers at Posting  Type  \\\n0       502093              36984682     0   \n1       603380              36984682     0   \n2       603380              36984682     0   \n3       725100              36984682     0   \n4       661446              36984682     0   \n\n                                         Description  Year Month Day Hour  \\\n0  The @raptors bench trio of @sergeibaka @norman...  2019    05  21   23   \n1  @kylelowry7 pulls from deep for the @raptors i...  2019    05  21   22   \n2       @kmid22 with some english on the @bucks dime  2019    05  21   22   \n3         Kawhi punches it home with the left on TNT  2019    05  21   22   \n4  @giannisan34 goes baseline early to rock the r...  2019    05  21   20   \n\n  Minute Second  \n0     30     51  \n1     53     33  \n2     19     58  \n3     02     41  \n4     47     49  ",
      "text/html": "<div>\n<style scoped>\n    .dataframe tbody tr th:only-of-type {\n        vertical-align: middle;\n    }\n\n    .dataframe tbody tr th {\n        vertical-align: top;\n    }\n\n    .dataframe thead th {\n        text-align: right;\n    }\n</style>\n<table border=\"1\" class=\"dataframe\">\n  <thead>\n    <tr style=\"text-align: right;\">\n      <th></th>\n      <th>Engagements</th>\n      <th>Followers at Posting</th>\n      <th>Type</th>\n      <th>Description</th>\n      <th>Year</th>\n      <th>Month</th>\n      <th>Day</th>\n      <th>Hour</th>\n      <th>Minute</th>\n      <th>Second</th>\n    </tr>\n  </thead>\n  <tbody>\n    <tr>\n      <th>0</th>\n      <td>502093</td>\n      <td>36984682</td>\n      <td>0</td>\n      <td>The @raptors bench trio of @sergeibaka @norman...</td>\n      <td>2019</td>\n      <td>05</td>\n      <td>21</td>\n      <td>23</td>\n      <td>30</td>\n      <td>51</td>\n    </tr>\n    <tr>\n      <th>1</th>\n      <td>603380</td>\n      <td>36984682</td>\n      <td>0</td>\n      <td>@kylelowry7 pulls from deep for the @raptors i...</td>\n      <td>2019</td>\n      <td>05</td>\n      <td>21</td>\n      <td>22</td>\n      <td>53</td>\n      <td>33</td>\n    </tr>\n    <tr>\n      <th>2</th>\n      <td>603380</td>\n      <td>36984682</td>\n      <td>0</td>\n      <td>@kmid22 with some english on the @bucks dime</td>\n      <td>2019</td>\n      <td>05</td>\n      <td>21</td>\n      <td>22</td>\n      <td>19</td>\n      <td>58</td>\n    </tr>\n    <tr>\n      <th>3</th>\n      <td>725100</td>\n      <td>36984682</td>\n      <td>0</td>\n      <td>Kawhi punches it home with the left on TNT</td>\n      <td>2019</td>\n      <td>05</td>\n      <td>21</td>\n      <td>22</td>\n      <td>02</td>\n      <td>41</td>\n    </tr>\n    <tr>\n      <th>4</th>\n      <td>661446</td>\n      <td>36984682</td>\n      <td>0</td>\n      <td>@giannisan34 goes baseline early to rock the r...</td>\n      <td>2019</td>\n      <td>05</td>\n      <td>21</td>\n      <td>20</td>\n      <td>47</td>\n      <td>49</td>\n    </tr>\n  </tbody>\n</table>\n</div>"
     },
     "metadata": {},
     "execution_count": 5
    }
   ],
   "source": [
    "# Now we get to the desc!\n",
    "\n",
    "# Remove all punctuation other than @ and # because those are special for Instagram \n",
    "def remove_punctuation(text):\n",
    "    if type(text) != str:\n",
    "        return ''\n",
    "    punctuation = string.punctuation\n",
    "    punctuation = punctuation.replace('#', '')\n",
    "    punctuation = punctuation.replace('@', '')\n",
    "    return text.translate(str.maketrans('', '', punctuation))\n",
    "\n",
    "data['Description'] = data['Description'].apply(remove_punctuation)\n",
    "data.head()"
   ]
  },
  {
   "cell_type": "markdown",
   "metadata": {},
   "source": [
    "This part is a little disorganized but there is a reason!\n",
    "\n",
    "In order to make OneHotEncoding easy I wanted to use the pd.get_dummies() method.\n",
    "\n",
    "If I kept the Description Column it would have OneHotEncoded that as well rather than the other columns.\n",
    "\n",
    "So the next steps are OneHotEncoding the data without the description and then combining it back with the description."
   ]
  },
  {
   "cell_type": "code",
   "execution_count": 7,
   "metadata": {},
   "outputs": [
    {
     "output_type": "execute_result",
     "data": {
      "text/plain": "   Engagements  Followers at Posting  Type  Year_2017  Year_2018  Year_2019  \\\n0    -0.503268              1.749016     0          0          0          1   \n1     0.061735              1.749016     0          0          0          1   \n2     0.061735              1.749016     0          0          0          1   \n3     0.740717              1.749016     0          0          0          1   \n4     0.385641              1.749016     0          0          0          1   \n\n   Month_01  Month_02  Month_03  Month_04  ...  Second_50  Second_51  \\\n0         0         0         0         0  ...          0          1   \n1         0         0         0         0  ...          0          0   \n2         0         0         0         0  ...          0          0   \n3         0         0         0         0  ...          0          0   \n4         0         0         0         0  ...          0          0   \n\n   Second_52  Second_53  Second_54  Second_55  Second_56  Second_57  \\\n0          0          0          0          0          0          0   \n1          0          0          0          0          0          0   \n2          0          0          0          0          0          0   \n3          0          0          0          0          0          0   \n4          0          0          0          0          0          0   \n\n   Second_58  Second_59  \n0          0          0  \n1          0          0  \n2          1          0  \n3          0          0  \n4          0          0  \n\n[5 rows x 193 columns]",
      "text/html": "<div>\n<style scoped>\n    .dataframe tbody tr th:only-of-type {\n        vertical-align: middle;\n    }\n\n    .dataframe tbody tr th {\n        vertical-align: top;\n    }\n\n    .dataframe thead th {\n        text-align: right;\n    }\n</style>\n<table border=\"1\" class=\"dataframe\">\n  <thead>\n    <tr style=\"text-align: right;\">\n      <th></th>\n      <th>Engagements</th>\n      <th>Followers at Posting</th>\n      <th>Type</th>\n      <th>Year_2017</th>\n      <th>Year_2018</th>\n      <th>Year_2019</th>\n      <th>Month_01</th>\n      <th>Month_02</th>\n      <th>Month_03</th>\n      <th>Month_04</th>\n      <th>...</th>\n      <th>Second_50</th>\n      <th>Second_51</th>\n      <th>Second_52</th>\n      <th>Second_53</th>\n      <th>Second_54</th>\n      <th>Second_55</th>\n      <th>Second_56</th>\n      <th>Second_57</th>\n      <th>Second_58</th>\n      <th>Second_59</th>\n    </tr>\n  </thead>\n  <tbody>\n    <tr>\n      <th>0</th>\n      <td>-0.503268</td>\n      <td>1.749016</td>\n      <td>0</td>\n      <td>0</td>\n      <td>0</td>\n      <td>1</td>\n      <td>0</td>\n      <td>0</td>\n      <td>0</td>\n      <td>0</td>\n      <td>...</td>\n      <td>0</td>\n      <td>1</td>\n      <td>0</td>\n      <td>0</td>\n      <td>0</td>\n      <td>0</td>\n      <td>0</td>\n      <td>0</td>\n      <td>0</td>\n      <td>0</td>\n    </tr>\n    <tr>\n      <th>1</th>\n      <td>0.061735</td>\n      <td>1.749016</td>\n      <td>0</td>\n      <td>0</td>\n      <td>0</td>\n      <td>1</td>\n      <td>0</td>\n      <td>0</td>\n      <td>0</td>\n      <td>0</td>\n      <td>...</td>\n      <td>0</td>\n      <td>0</td>\n      <td>0</td>\n      <td>0</td>\n      <td>0</td>\n      <td>0</td>\n      <td>0</td>\n      <td>0</td>\n      <td>0</td>\n      <td>0</td>\n    </tr>\n    <tr>\n      <th>2</th>\n      <td>0.061735</td>\n      <td>1.749016</td>\n      <td>0</td>\n      <td>0</td>\n      <td>0</td>\n      <td>1</td>\n      <td>0</td>\n      <td>0</td>\n      <td>0</td>\n      <td>0</td>\n      <td>...</td>\n      <td>0</td>\n      <td>0</td>\n      <td>0</td>\n      <td>0</td>\n      <td>0</td>\n      <td>0</td>\n      <td>0</td>\n      <td>0</td>\n      <td>1</td>\n      <td>0</td>\n    </tr>\n    <tr>\n      <th>3</th>\n      <td>0.740717</td>\n      <td>1.749016</td>\n      <td>0</td>\n      <td>0</td>\n      <td>0</td>\n      <td>1</td>\n      <td>0</td>\n      <td>0</td>\n      <td>0</td>\n      <td>0</td>\n      <td>...</td>\n      <td>0</td>\n      <td>0</td>\n      <td>0</td>\n      <td>0</td>\n      <td>0</td>\n      <td>0</td>\n      <td>0</td>\n      <td>0</td>\n      <td>0</td>\n      <td>0</td>\n    </tr>\n    <tr>\n      <th>4</th>\n      <td>0.385641</td>\n      <td>1.749016</td>\n      <td>0</td>\n      <td>0</td>\n      <td>0</td>\n      <td>1</td>\n      <td>0</td>\n      <td>0</td>\n      <td>0</td>\n      <td>0</td>\n      <td>...</td>\n      <td>0</td>\n      <td>0</td>\n      <td>0</td>\n      <td>0</td>\n      <td>0</td>\n      <td>0</td>\n      <td>0</td>\n      <td>0</td>\n      <td>0</td>\n      <td>0</td>\n    </tr>\n  </tbody>\n</table>\n<p>5 rows × 193 columns</p>\n</div>"
     },
     "metadata": {},
     "execution_count": 7
    }
   ],
   "source": [
    "data_no_desc = data[['Engagements', 'Followers at Posting', 'Type', 'Year', 'Month', 'Day', 'Hour', 'Minute', 'Second']]\n",
    "data_no_desc = pd.get_dummies(data_no_desc)\n",
    "data_no_desc.head()"
   ]
  },
  {
   "cell_type": "code",
   "execution_count": 9,
   "metadata": {},
   "outputs": [
    {
     "output_type": "execute_result",
     "data": {
      "text/plain": "   Engagements  Followers at Posting  Type  Year_2017  Year_2018  Year_2019  \\\n0    -0.503268              1.749016     0          0          0          1   \n1     0.061735              1.749016     0          0          0          1   \n2     0.061735              1.749016     0          0          0          1   \n3     0.740717              1.749016     0          0          0          1   \n4     0.385641              1.749016     0          0          0          1   \n\n   Month_01  Month_02  Month_03  Month_04  ...  Second_51  Second_52  \\\n0         0         0         0         0  ...          1          0   \n1         0         0         0         0  ...          0          0   \n2         0         0         0         0  ...          0          0   \n3         0         0         0         0  ...          0          0   \n4         0         0         0         0  ...          0          0   \n\n   Second_53  Second_54  Second_55  Second_56  Second_57  Second_58  \\\n0          0          0          0          0          0          0   \n1          0          0          0          0          0          0   \n2          0          0          0          0          0          1   \n3          0          0          0          0          0          0   \n4          0          0          0          0          0          0   \n\n   Second_59                                        Description  \n0          0  The @raptors bench trio of @sergeibaka @norman...  \n1          0  @kylelowry7 pulls from deep for the @raptors i...  \n2          0       @kmid22 with some english on the @bucks dime  \n3          0         Kawhi punches it home with the left on TNT  \n4          0  @giannisan34 goes baseline early to rock the r...  \n\n[5 rows x 194 columns]",
      "text/html": "<div>\n<style scoped>\n    .dataframe tbody tr th:only-of-type {\n        vertical-align: middle;\n    }\n\n    .dataframe tbody tr th {\n        vertical-align: top;\n    }\n\n    .dataframe thead th {\n        text-align: right;\n    }\n</style>\n<table border=\"1\" class=\"dataframe\">\n  <thead>\n    <tr style=\"text-align: right;\">\n      <th></th>\n      <th>Engagements</th>\n      <th>Followers at Posting</th>\n      <th>Type</th>\n      <th>Year_2017</th>\n      <th>Year_2018</th>\n      <th>Year_2019</th>\n      <th>Month_01</th>\n      <th>Month_02</th>\n      <th>Month_03</th>\n      <th>Month_04</th>\n      <th>...</th>\n      <th>Second_51</th>\n      <th>Second_52</th>\n      <th>Second_53</th>\n      <th>Second_54</th>\n      <th>Second_55</th>\n      <th>Second_56</th>\n      <th>Second_57</th>\n      <th>Second_58</th>\n      <th>Second_59</th>\n      <th>Description</th>\n    </tr>\n  </thead>\n  <tbody>\n    <tr>\n      <th>0</th>\n      <td>-0.503268</td>\n      <td>1.749016</td>\n      <td>0</td>\n      <td>0</td>\n      <td>0</td>\n      <td>1</td>\n      <td>0</td>\n      <td>0</td>\n      <td>0</td>\n      <td>0</td>\n      <td>...</td>\n      <td>1</td>\n      <td>0</td>\n      <td>0</td>\n      <td>0</td>\n      <td>0</td>\n      <td>0</td>\n      <td>0</td>\n      <td>0</td>\n      <td>0</td>\n      <td>The @raptors bench trio of @sergeibaka @norman...</td>\n    </tr>\n    <tr>\n      <th>1</th>\n      <td>0.061735</td>\n      <td>1.749016</td>\n      <td>0</td>\n      <td>0</td>\n      <td>0</td>\n      <td>1</td>\n      <td>0</td>\n      <td>0</td>\n      <td>0</td>\n      <td>0</td>\n      <td>...</td>\n      <td>0</td>\n      <td>0</td>\n      <td>0</td>\n      <td>0</td>\n      <td>0</td>\n      <td>0</td>\n      <td>0</td>\n      <td>0</td>\n      <td>0</td>\n      <td>@kylelowry7 pulls from deep for the @raptors i...</td>\n    </tr>\n    <tr>\n      <th>2</th>\n      <td>0.061735</td>\n      <td>1.749016</td>\n      <td>0</td>\n      <td>0</td>\n      <td>0</td>\n      <td>1</td>\n      <td>0</td>\n      <td>0</td>\n      <td>0</td>\n      <td>0</td>\n      <td>...</td>\n      <td>0</td>\n      <td>0</td>\n      <td>0</td>\n      <td>0</td>\n      <td>0</td>\n      <td>0</td>\n      <td>0</td>\n      <td>1</td>\n      <td>0</td>\n      <td>@kmid22 with some english on the @bucks dime</td>\n    </tr>\n    <tr>\n      <th>3</th>\n      <td>0.740717</td>\n      <td>1.749016</td>\n      <td>0</td>\n      <td>0</td>\n      <td>0</td>\n      <td>1</td>\n      <td>0</td>\n      <td>0</td>\n      <td>0</td>\n      <td>0</td>\n      <td>...</td>\n      <td>0</td>\n      <td>0</td>\n      <td>0</td>\n      <td>0</td>\n      <td>0</td>\n      <td>0</td>\n      <td>0</td>\n      <td>0</td>\n      <td>0</td>\n      <td>Kawhi punches it home with the left on TNT</td>\n    </tr>\n    <tr>\n      <th>4</th>\n      <td>0.385641</td>\n      <td>1.749016</td>\n      <td>0</td>\n      <td>0</td>\n      <td>0</td>\n      <td>1</td>\n      <td>0</td>\n      <td>0</td>\n      <td>0</td>\n      <td>0</td>\n      <td>...</td>\n      <td>0</td>\n      <td>0</td>\n      <td>0</td>\n      <td>0</td>\n      <td>0</td>\n      <td>0</td>\n      <td>0</td>\n      <td>0</td>\n      <td>0</td>\n      <td>@giannisan34 goes baseline early to rock the r...</td>\n    </tr>\n  </tbody>\n</table>\n<p>5 rows × 194 columns</p>\n</div>"
     },
     "metadata": {},
     "execution_count": 9
    }
   ],
   "source": [
    "dummy_data = data_no_desc\n",
    "dummy_data['Description'] = data['Description']\n",
    "\n",
    "dummy_data.head()"
   ]
  },
  {
   "cell_type": "markdown",
   "metadata": {},
   "source": [
    "At this point we now have 2 engineered datasets: **data** (soon to be **processed_data**) and **dummy_data**.\n",
    "\n",
    "The only difference between them is that dummy_data OneHotEncodes the original Created column\n",
    "while data essentially LabelEncodes.\n",
    "\n",
    "Here we continue engineering the Description by getting the word count of each post in each dataset.\n",
    "It will be clear how the datasets are different from the outputs below."
   ]
  },
  {
   "cell_type": "code",
   "execution_count": 10,
   "metadata": {},
   "outputs": [
    {
     "output_type": "execute_result",
     "data": {
      "text/plain": "   Engagements  Followers at Posting  Type  \\\n0    -0.503268              1.749016     0   \n1     0.061735              1.749016     0   \n2     0.061735              1.749016     0   \n3     0.740717              1.749016     0   \n4     0.385641              1.749016     0   \n\n                                         Description  Year Month Day Hour  \\\n0  The @raptors bench trio of @sergeibaka @norman...  2019    05  21   23   \n1  @kylelowry7 pulls from deep for the @raptors i...  2019    05  21   22   \n2       @kmid22 with some english on the @bucks dime  2019    05  21   22   \n3         Kawhi punches it home with the left on TNT  2019    05  21   22   \n4  @giannisan34 goes baseline early to rock the r...  2019    05  21   20   \n\n  Minute Second                                         word_count  \n0     30     51  {'The': 1, '@raptors': 1, 'bench': 1, 'trio': ...  \n1     53     33  {'@kylelowry7': 1, 'pulls': 1, 'from': 1, 'dee...  \n2     19     58  {'@kmid22': 1, 'with': 1, 'some': 1, 'english'...  \n3     02     41  {'Kawhi': 1, 'punches': 1, 'it': 1, 'home': 1,...  \n4     47     49  {'@giannisan34': 1, 'goes': 1, 'baseline': 1, ...  ",
      "text/html": "<div>\n<style scoped>\n    .dataframe tbody tr th:only-of-type {\n        vertical-align: middle;\n    }\n\n    .dataframe tbody tr th {\n        vertical-align: top;\n    }\n\n    .dataframe thead th {\n        text-align: right;\n    }\n</style>\n<table border=\"1\" class=\"dataframe\">\n  <thead>\n    <tr style=\"text-align: right;\">\n      <th></th>\n      <th>Engagements</th>\n      <th>Followers at Posting</th>\n      <th>Type</th>\n      <th>Description</th>\n      <th>Year</th>\n      <th>Month</th>\n      <th>Day</th>\n      <th>Hour</th>\n      <th>Minute</th>\n      <th>Second</th>\n      <th>word_count</th>\n    </tr>\n  </thead>\n  <tbody>\n    <tr>\n      <th>0</th>\n      <td>-0.503268</td>\n      <td>1.749016</td>\n      <td>0</td>\n      <td>The @raptors bench trio of @sergeibaka @norman...</td>\n      <td>2019</td>\n      <td>05</td>\n      <td>21</td>\n      <td>23</td>\n      <td>30</td>\n      <td>51</td>\n      <td>{'The': 1, '@raptors': 1, 'bench': 1, 'trio': ...</td>\n    </tr>\n    <tr>\n      <th>1</th>\n      <td>0.061735</td>\n      <td>1.749016</td>\n      <td>0</td>\n      <td>@kylelowry7 pulls from deep for the @raptors i...</td>\n      <td>2019</td>\n      <td>05</td>\n      <td>21</td>\n      <td>22</td>\n      <td>53</td>\n      <td>33</td>\n      <td>{'@kylelowry7': 1, 'pulls': 1, 'from': 1, 'dee...</td>\n    </tr>\n    <tr>\n      <th>2</th>\n      <td>0.061735</td>\n      <td>1.749016</td>\n      <td>0</td>\n      <td>@kmid22 with some english on the @bucks dime</td>\n      <td>2019</td>\n      <td>05</td>\n      <td>21</td>\n      <td>22</td>\n      <td>19</td>\n      <td>58</td>\n      <td>{'@kmid22': 1, 'with': 1, 'some': 1, 'english'...</td>\n    </tr>\n    <tr>\n      <th>3</th>\n      <td>0.740717</td>\n      <td>1.749016</td>\n      <td>0</td>\n      <td>Kawhi punches it home with the left on TNT</td>\n      <td>2019</td>\n      <td>05</td>\n      <td>21</td>\n      <td>22</td>\n      <td>02</td>\n      <td>41</td>\n      <td>{'Kawhi': 1, 'punches': 1, 'it': 1, 'home': 1,...</td>\n    </tr>\n    <tr>\n      <th>4</th>\n      <td>0.385641</td>\n      <td>1.749016</td>\n      <td>0</td>\n      <td>@giannisan34 goes baseline early to rock the r...</td>\n      <td>2019</td>\n      <td>05</td>\n      <td>21</td>\n      <td>20</td>\n      <td>47</td>\n      <td>49</td>\n      <td>{'@giannisan34': 1, 'goes': 1, 'baseline': 1, ...</td>\n    </tr>\n  </tbody>\n</table>\n</div>"
     },
     "metadata": {},
     "execution_count": 10
    }
   ],
   "source": [
    "# Now we use DictVectorizer\n",
    "# This will get the word count for each word\n",
    "processed_data = data\n",
    "\n",
    "word_count = []\n",
    "\n",
    "for i in range(0, len(processed_data)):\n",
    "    word_count_dict = {}\n",
    "    description = processed_data['Description'].iloc[i]\n",
    "    description = description.split(' ')\n",
    "    for word in description:\n",
    "        if word in word_count_dict.keys():\n",
    "            word_count_dict[word] += 1\n",
    "        else:\n",
    "            word_count_dict[word] = 1\n",
    "    word_count.append(word_count_dict)\n",
    "\n",
    "processed_data['word_count'] = word_count\n",
    "\n",
    "processed_data.head()"
   ]
  },
  {
   "cell_type": "markdown",
   "metadata": {},
   "source": [
    "This is a small part. Initally when splitting the Created Colunn it made the new columns Strings (objects in pandas).\n",
    "\n",
    "This allowed pd.get_dummies() to OneHotEncode, however with this dataset we want the labels to be treated as ints so we quickly cast them."
   ]
  },
  {
   "cell_type": "code",
   "execution_count": 11,
   "metadata": {},
   "outputs": [],
   "source": [
    "processed_data['Year'] = processed_data['Year'].apply(lambda date: int(date))\n",
    "processed_data['Month'] = processed_data['Month'].apply(lambda date: int(date))\n",
    "processed_data['Day'] = processed_data['Day'].apply(lambda date: int(date))\n",
    "processed_data['Hour'] = processed_data['Hour'].apply(lambda date: int(date))\n",
    "processed_data['Minute'] = processed_data['Minute'].apply(lambda date: int(date))\n",
    "processed_data['Second'] = processed_data['Second'].apply(lambda date: int(date))"
   ]
  },
  {
   "cell_type": "code",
   "execution_count": 12,
   "metadata": {},
   "outputs": [
    {
     "output_type": "execute_result",
     "data": {
      "text/plain": "   Engagements  Followers at Posting  Type  Year_2017  Year_2018  Year_2019  \\\n0    -0.503268              1.749016     0          0          0          1   \n1     0.061735              1.749016     0          0          0          1   \n2     0.061735              1.749016     0          0          0          1   \n3     0.740717              1.749016     0          0          0          1   \n4     0.385641              1.749016     0          0          0          1   \n\n   Month_01  Month_02  Month_03  Month_04  ...  Second_52  Second_53  \\\n0         0         0         0         0  ...          0          0   \n1         0         0         0         0  ...          0          0   \n2         0         0         0         0  ...          0          0   \n3         0         0         0         0  ...          0          0   \n4         0         0         0         0  ...          0          0   \n\n   Second_54  Second_55  Second_56  Second_57  Second_58  Second_59  \\\n0          0          0          0          0          0          0   \n1          0          0          0          0          0          0   \n2          0          0          0          0          1          0   \n3          0          0          0          0          0          0   \n4          0          0          0          0          0          0   \n\n                                         Description  \\\n0  The @raptors bench trio of @sergeibaka @norman...   \n1  @kylelowry7 pulls from deep for the @raptors i...   \n2       @kmid22 with some english on the @bucks dime   \n3         Kawhi punches it home with the left on TNT   \n4  @giannisan34 goes baseline early to rock the r...   \n\n                                          word_count  \n0  {'The': 1, '@raptors': 1, 'bench': 1, 'trio': ...  \n1  {'@kylelowry7': 1, 'pulls': 1, 'from': 1, 'dee...  \n2  {'@kmid22': 1, 'with': 1, 'some': 1, 'english'...  \n3  {'Kawhi': 1, 'punches': 1, 'it': 1, 'home': 1,...  \n4  {'@giannisan34': 1, 'goes': 1, 'baseline': 1, ...  \n\n[5 rows x 195 columns]",
      "text/html": "<div>\n<style scoped>\n    .dataframe tbody tr th:only-of-type {\n        vertical-align: middle;\n    }\n\n    .dataframe tbody tr th {\n        vertical-align: top;\n    }\n\n    .dataframe thead th {\n        text-align: right;\n    }\n</style>\n<table border=\"1\" class=\"dataframe\">\n  <thead>\n    <tr style=\"text-align: right;\">\n      <th></th>\n      <th>Engagements</th>\n      <th>Followers at Posting</th>\n      <th>Type</th>\n      <th>Year_2017</th>\n      <th>Year_2018</th>\n      <th>Year_2019</th>\n      <th>Month_01</th>\n      <th>Month_02</th>\n      <th>Month_03</th>\n      <th>Month_04</th>\n      <th>...</th>\n      <th>Second_52</th>\n      <th>Second_53</th>\n      <th>Second_54</th>\n      <th>Second_55</th>\n      <th>Second_56</th>\n      <th>Second_57</th>\n      <th>Second_58</th>\n      <th>Second_59</th>\n      <th>Description</th>\n      <th>word_count</th>\n    </tr>\n  </thead>\n  <tbody>\n    <tr>\n      <th>0</th>\n      <td>-0.503268</td>\n      <td>1.749016</td>\n      <td>0</td>\n      <td>0</td>\n      <td>0</td>\n      <td>1</td>\n      <td>0</td>\n      <td>0</td>\n      <td>0</td>\n      <td>0</td>\n      <td>...</td>\n      <td>0</td>\n      <td>0</td>\n      <td>0</td>\n      <td>0</td>\n      <td>0</td>\n      <td>0</td>\n      <td>0</td>\n      <td>0</td>\n      <td>The @raptors bench trio of @sergeibaka @norman...</td>\n      <td>{'The': 1, '@raptors': 1, 'bench': 1, 'trio': ...</td>\n    </tr>\n    <tr>\n      <th>1</th>\n      <td>0.061735</td>\n      <td>1.749016</td>\n      <td>0</td>\n      <td>0</td>\n      <td>0</td>\n      <td>1</td>\n      <td>0</td>\n      <td>0</td>\n      <td>0</td>\n      <td>0</td>\n      <td>...</td>\n      <td>0</td>\n      <td>0</td>\n      <td>0</td>\n      <td>0</td>\n      <td>0</td>\n      <td>0</td>\n      <td>0</td>\n      <td>0</td>\n      <td>@kylelowry7 pulls from deep for the @raptors i...</td>\n      <td>{'@kylelowry7': 1, 'pulls': 1, 'from': 1, 'dee...</td>\n    </tr>\n    <tr>\n      <th>2</th>\n      <td>0.061735</td>\n      <td>1.749016</td>\n      <td>0</td>\n      <td>0</td>\n      <td>0</td>\n      <td>1</td>\n      <td>0</td>\n      <td>0</td>\n      <td>0</td>\n      <td>0</td>\n      <td>...</td>\n      <td>0</td>\n      <td>0</td>\n      <td>0</td>\n      <td>0</td>\n      <td>0</td>\n      <td>0</td>\n      <td>1</td>\n      <td>0</td>\n      <td>@kmid22 with some english on the @bucks dime</td>\n      <td>{'@kmid22': 1, 'with': 1, 'some': 1, 'english'...</td>\n    </tr>\n    <tr>\n      <th>3</th>\n      <td>0.740717</td>\n      <td>1.749016</td>\n      <td>0</td>\n      <td>0</td>\n      <td>0</td>\n      <td>1</td>\n      <td>0</td>\n      <td>0</td>\n      <td>0</td>\n      <td>0</td>\n      <td>...</td>\n      <td>0</td>\n      <td>0</td>\n      <td>0</td>\n      <td>0</td>\n      <td>0</td>\n      <td>0</td>\n      <td>0</td>\n      <td>0</td>\n      <td>Kawhi punches it home with the left on TNT</td>\n      <td>{'Kawhi': 1, 'punches': 1, 'it': 1, 'home': 1,...</td>\n    </tr>\n    <tr>\n      <th>4</th>\n      <td>0.385641</td>\n      <td>1.749016</td>\n      <td>0</td>\n      <td>0</td>\n      <td>0</td>\n      <td>1</td>\n      <td>0</td>\n      <td>0</td>\n      <td>0</td>\n      <td>0</td>\n      <td>...</td>\n      <td>0</td>\n      <td>0</td>\n      <td>0</td>\n      <td>0</td>\n      <td>0</td>\n      <td>0</td>\n      <td>0</td>\n      <td>0</td>\n      <td>@giannisan34 goes baseline early to rock the r...</td>\n      <td>{'@giannisan34': 1, 'goes': 1, 'baseline': 1, ...</td>\n    </tr>\n  </tbody>\n</table>\n<p>5 rows × 195 columns</p>\n</div>"
     },
     "metadata": {},
     "execution_count": 12
    }
   ],
   "source": [
    "word_count = []\n",
    "\n",
    "for i in range(0, len(dummy_data)):\n",
    "    word_count_dict = {}\n",
    "    description = dummy_data['Description'].iloc[i]\n",
    "    description = description.split(' ')\n",
    "    for word in description:\n",
    "        if word in word_count_dict.keys():\n",
    "            word_count_dict[word] += 1\n",
    "        else:\n",
    "            word_count_dict[word] = 1\n",
    "    word_count.append(word_count_dict)\n",
    "\n",
    "dummy_data['word_count'] = word_count\n",
    "\n",
    "dummy_data.head()"
   ]
  },
  {
   "cell_type": "markdown",
   "metadata": {},
   "source": [
    "Hopefully the difference is clear between the 2 datasets.\n",
    "\n",
    "**dummy_data** has about 100 more labels than **processed_data**.\n",
    "\n",
    "Here we get to the final engineering part for the Description column!\n",
    "\n",
    "For both datasets we make each word its own label and the value will be how many times it appears in the post."
   ]
  },
  {
   "cell_type": "code",
   "execution_count": 13,
   "metadata": {},
   "outputs": [],
   "source": [
    "# Create a DictVectorizer and create vectors for these dictionaries\n",
    "dictVectorizer = DictVectorizer()\n",
    "features_Frame_proccessed = dictVectorizer.fit_transform(processed_data['word_count'])\n",
    "features_Frame_dummy = dictVectorizer.fit_transform(dummy_data['word_count'])"
   ]
  },
  {
   "cell_type": "code",
   "execution_count": 14,
   "metadata": {},
   "outputs": [
    {
     "output_type": "stream",
     "name": "stdout",
     "text": "0    1    2    3    4    5    6    7    8    9  ...  Engagements  \\\n0  1.0  0.0  0.0  0.0  0.0  0.0  0.0  0.0  0.0  0.0  ...    -0.503268   \n1  0.0  0.0  0.0  0.0  0.0  0.0  0.0  0.0  0.0  0.0  ...     0.061735   \n2  0.0  0.0  0.0  0.0  0.0  0.0  0.0  0.0  0.0  0.0  ...     0.061735   \n3  0.0  0.0  0.0  0.0  0.0  0.0  0.0  0.0  0.0  0.0  ...     0.740717   \n4  0.0  0.0  0.0  0.0  0.0  0.0  0.0  0.0  0.0  0.0  ...     0.385641   \n\n   Followers at Posting  Type  Year  Month  Day  Hour  Minute  Second  \\\n0              1.749016     0  2019      5   21    23      30      51   \n1              1.749016     0  2019      5   21    22      53      33   \n2              1.749016     0  2019      5   21    22      19      58   \n3              1.749016     0  2019      5   21    22       2      41   \n4              1.749016     0  2019      5   21    20      47      49   \n\n                                          word_count  \n0  {'The': 1, '@raptors': 1, 'bench': 1, 'trio': ...  \n1  {'@kylelowry7': 1, 'pulls': 1, 'from': 1, 'dee...  \n2  {'@kmid22': 1, 'with': 1, 'some': 1, 'english'...  \n3  {'Kawhi': 1, 'punches': 1, 'it': 1, 'home': 1,...  \n4  {'@giannisan34': 1, 'goes': 1, 'baseline': 1, ...  \n\n[5 rows x 7298 columns]\n"
    },
    {
     "output_type": "execute_result",
     "data": {
      "text/plain": "(7766, 7298)"
     },
     "metadata": {},
     "execution_count": 14
    }
   ],
   "source": [
    "#  Create a new DataFrame that has all these features as columns\n",
    "processed_data_vect = pd.DataFrame(features_Frame_proccessed.toarray())\n",
    "\n",
    "features = list(processed_data.columns)\n",
    "features.remove('Description')\n",
    "\n",
    "for feature in features:\n",
    "    processed_data_vect[feature] = list(processed_data[feature])\n",
    "\n",
    "print(processed_data_vect.head())\n",
    "processed_data_vect.shape"
   ]
  },
  {
   "cell_type": "code",
   "execution_count": 15,
   "metadata": {},
   "outputs": [
    {
     "output_type": "stream",
     "name": "stdout",
     "text": "0    1    2    3    4    5    6    7    8    9  ...  Second_51  \\\n0  1.0  0.0  0.0  0.0  0.0  0.0  0.0  0.0  0.0  0.0  ...          1   \n1  0.0  0.0  0.0  0.0  0.0  0.0  0.0  0.0  0.0  0.0  ...          0   \n2  0.0  0.0  0.0  0.0  0.0  0.0  0.0  0.0  0.0  0.0  ...          0   \n3  0.0  0.0  0.0  0.0  0.0  0.0  0.0  0.0  0.0  0.0  ...          0   \n4  0.0  0.0  0.0  0.0  0.0  0.0  0.0  0.0  0.0  0.0  ...          0   \n\n   Second_52  Second_53  Second_54  Second_55  Second_56  Second_57  \\\n0          0          0          0          0          0          0   \n1          0          0          0          0          0          0   \n2          0          0          0          0          0          0   \n3          0          0          0          0          0          0   \n4          0          0          0          0          0          0   \n\n   Second_58  Second_59                                         word_count  \n0          0          0  {'The': 1, '@raptors': 1, 'bench': 1, 'trio': ...  \n1          0          0  {'@kylelowry7': 1, 'pulls': 1, 'from': 1, 'dee...  \n2          1          0  {'@kmid22': 1, 'with': 1, 'some': 1, 'english'...  \n3          0          0  {'Kawhi': 1, 'punches': 1, 'it': 1, 'home': 1,...  \n4          0          0  {'@giannisan34': 1, 'goes': 1, 'baseline': 1, ...  \n\n[5 rows x 7482 columns]\n"
    },
    {
     "output_type": "execute_result",
     "data": {
      "text/plain": "(7766, 7482)"
     },
     "metadata": {},
     "execution_count": 15
    }
   ],
   "source": [
    "#  Create a new DataFrame that has all these features as columns\n",
    "dummy_data_vect = pd.DataFrame(features_Frame_dummy.toarray())\n",
    "\n",
    "features = list(dummy_data.columns)\n",
    "features.remove('Description')\n",
    "\n",
    "for feature in features:\n",
    "    dummy_data_vect[feature] = list(dummy_data[feature])\n",
    "\n",
    "print(dummy_data_vect.head())\n",
    "dummy_data_vect.shape"
   ]
  },
  {
   "cell_type": "markdown",
   "metadata": {},
   "source": [
    "We can see that doing this added **a lot** of columns.\n",
    "\n",
    "We now have 7766 observations in both datasets with **processed_data** having 7298 labels and **dummy_data** having 7482 labels.\n",
    "\n",
    "However now we have a usable dataset for ML algorithms! (We will exclude word_count I just chose not do delete the column)"
   ]
  },
  {
   "cell_type": "markdown",
   "metadata": {},
   "source": [
    "## Getting the Training and Validation Sets"
   ]
  },
  {
   "cell_type": "markdown",
   "metadata": {},
   "source": [
    "It's important to note that the data we are given is a time series (Posts are from 10/2017-05/2019). This is especially important in this case.\n",
    "\n",
    "Below I made a bar plot with the number of posts per month. The blue line is from 2017, green is 2018, and red is 2019. "
   ]
  },
  {
   "cell_type": "code",
   "execution_count": 23,
   "metadata": {},
   "outputs": [
    {
     "output_type": "display_data",
     "data": {
      "text/plain": "<Figure size 432x288 with 1 Axes>",
      "image/svg+xml": "<?xml version=\"1.0\" encoding=\"utf-8\" standalone=\"no\"?>\r\n<!DOCTYPE svg PUBLIC \"-//W3C//DTD SVG 1.1//EN\"\r\n  \"http://www.w3.org/Graphics/SVG/1.1/DTD/svg11.dtd\">\r\n<!-- Created with matplotlib (https://matplotlib.org/) -->\r\n<svg height=\"248.518125pt\" version=\"1.1\" viewBox=\"0 0 375.2875 248.518125\" width=\"375.2875pt\" xmlns=\"http://www.w3.org/2000/svg\" xmlns:xlink=\"http://www.w3.org/1999/xlink\">\r\n <defs>\r\n  <style type=\"text/css\">\r\n*{stroke-linecap:butt;stroke-linejoin:round;}\r\n  </style>\r\n </defs>\r\n <g id=\"figure_1\">\r\n  <g id=\"patch_1\">\r\n   <path d=\"M 0 248.518125 \r\nL 375.2875 248.518125 \r\nL 375.2875 0 \r\nL 0 0 \r\nz\r\n\" style=\"fill:none;\"/>\r\n  </g>\r\n  <g id=\"axes_1\">\r\n   <g id=\"patch_2\">\r\n    <path d=\"M 33.2875 224.64 \r\nL 368.0875 224.64 \r\nL 368.0875 7.2 \r\nL 33.2875 7.2 \r\nz\r\n\" style=\"fill:#ffffff;\"/>\r\n   </g>\r\n   <g id=\"patch_3\">\r\n    <path clip-path=\"url(#p99b8a2477d)\" d=\"M 48.505682 224.64 \r\nL 56.178715 224.64 \r\nL 56.178715 224.64 \r\nL 48.505682 224.64 \r\nz\r\n\" style=\"fill:#0000ff;\"/>\r\n   </g>\r\n   <g id=\"patch_4\">\r\n    <path clip-path=\"url(#p99b8a2477d)\" d=\"M 74.082458 224.64 \r\nL 81.755491 224.64 \r\nL 81.755491 224.64 \r\nL 74.082458 224.64 \r\nz\r\n\" style=\"fill:#0000ff;\"/>\r\n   </g>\r\n   <g id=\"patch_5\">\r\n    <path clip-path=\"url(#p99b8a2477d)\" d=\"M 99.659234 224.64 \r\nL 107.332267 224.64 \r\nL 107.332267 224.64 \r\nL 99.659234 224.64 \r\nz\r\n\" style=\"fill:#0000ff;\"/>\r\n   </g>\r\n   <g id=\"patch_6\">\r\n    <path clip-path=\"url(#p99b8a2477d)\" d=\"M 125.23601 224.64 \r\nL 132.909043 224.64 \r\nL 132.909043 224.64 \r\nL 125.23601 224.64 \r\nz\r\n\" style=\"fill:#0000ff;\"/>\r\n   </g>\r\n   <g id=\"patch_7\">\r\n    <path clip-path=\"url(#p99b8a2477d)\" d=\"M 150.812786 224.64 \r\nL 158.485819 224.64 \r\nL 158.485819 224.64 \r\nL 150.812786 224.64 \r\nz\r\n\" style=\"fill:#0000ff;\"/>\r\n   </g>\r\n   <g id=\"patch_8\">\r\n    <path clip-path=\"url(#p99b8a2477d)\" d=\"M 176.389563 224.64 \r\nL 184.062595 224.64 \r\nL 184.062595 224.64 \r\nL 176.389563 224.64 \r\nz\r\n\" style=\"fill:#0000ff;\"/>\r\n   </g>\r\n   <g id=\"patch_9\">\r\n    <path clip-path=\"url(#p99b8a2477d)\" d=\"M 201.966339 224.64 \r\nL 209.639372 224.64 \r\nL 209.639372 224.64 \r\nL 201.966339 224.64 \r\nz\r\n\" style=\"fill:#0000ff;\"/>\r\n   </g>\r\n   <g id=\"patch_10\">\r\n    <path clip-path=\"url(#p99b8a2477d)\" d=\"M 227.543115 224.64 \r\nL 235.216148 224.64 \r\nL 235.216148 224.64 \r\nL 227.543115 224.64 \r\nz\r\n\" style=\"fill:#0000ff;\"/>\r\n   </g>\r\n   <g id=\"patch_11\">\r\n    <path clip-path=\"url(#p99b8a2477d)\" d=\"M 253.119891 224.64 \r\nL 260.792924 224.64 \r\nL 260.792924 224.64 \r\nL 253.119891 224.64 \r\nz\r\n\" style=\"fill:#0000ff;\"/>\r\n   </g>\r\n   <g id=\"patch_12\">\r\n    <path clip-path=\"url(#p99b8a2477d)\" d=\"M 278.696667 224.64 \r\nL 286.3697 224.64 \r\nL 286.3697 91.009539 \r\nL 278.696667 91.009539 \r\nz\r\n\" style=\"fill:#0000ff;\"/>\r\n   </g>\r\n   <g id=\"patch_13\">\r\n    <path clip-path=\"url(#p99b8a2477d)\" d=\"M 304.273443 224.64 \r\nL 311.946476 224.64 \r\nL 311.946476 77.314492 \r\nL 304.273443 77.314492 \r\nz\r\n\" style=\"fill:#0000ff;\"/>\r\n   </g>\r\n   <g id=\"patch_14\">\r\n    <path clip-path=\"url(#p99b8a2477d)\" d=\"M 329.85022 224.64 \r\nL 337.523252 224.64 \r\nL 337.523252 46.189384 \r\nL 329.85022 46.189384 \r\nz\r\n\" style=\"fill:#0000ff;\"/>\r\n   </g>\r\n   <g id=\"patch_15\">\r\n    <path clip-path=\"url(#p99b8a2477d)\" d=\"M 56.178715 224.64 \r\nL 63.851748 224.64 \r\nL 63.851748 41.209367 \r\nL 56.178715 41.209367 \r\nz\r\n\" style=\"fill:#008000;\"/>\r\n   </g>\r\n   <g id=\"patch_16\">\r\n    <path clip-path=\"url(#p99b8a2477d)\" d=\"M 81.755491 224.64 \r\nL 89.428524 224.64 \r\nL 89.428524 32.079336 \r\nL 81.755491 32.079336 \r\nz\r\n\" style=\"fill:#008000;\"/>\r\n   </g>\r\n   <g id=\"patch_17\">\r\n    <path clip-path=\"url(#p99b8a2477d)\" d=\"M 107.332267 224.64 \r\nL 115.0053 224.64 \r\nL 115.0053 53.65941 \r\nL 107.332267 53.65941 \r\nz\r\n\" style=\"fill:#008000;\"/>\r\n   </g>\r\n   <g id=\"patch_18\">\r\n    <path clip-path=\"url(#p99b8a2477d)\" d=\"M 132.909043 224.64 \r\nL 140.582076 224.64 \r\nL 140.582076 22.949304 \r\nL 132.909043 22.949304 \r\nz\r\n\" style=\"fill:#008000;\"/>\r\n   </g>\r\n   <g id=\"patch_19\">\r\n    <path clip-path=\"url(#p99b8a2477d)\" d=\"M 158.485819 224.64 \r\nL 166.158852 224.64 \r\nL 166.158852 45.359382 \r\nL 158.485819 45.359382 \r\nz\r\n\" style=\"fill:#008000;\"/>\r\n   </g>\r\n   <g id=\"patch_20\">\r\n    <path clip-path=\"url(#p99b8a2477d)\" d=\"M 184.062595 224.64 \r\nL 191.735628 224.64 \r\nL 191.735628 126.699662 \r\nL 184.062595 126.699662 \r\nz\r\n\" style=\"fill:#008000;\"/>\r\n   </g>\r\n   <g id=\"patch_21\">\r\n    <path clip-path=\"url(#p99b8a2477d)\" d=\"M 209.639372 224.64 \r\nL 217.312405 224.64 \r\nL 217.312405 127.114664 \r\nL 209.639372 127.114664 \r\nz\r\n\" style=\"fill:#008000;\"/>\r\n   </g>\r\n   <g id=\"patch_22\">\r\n    <path clip-path=\"url(#p99b8a2477d)\" d=\"M 235.216148 224.64 \r\nL 242.889181 224.64 \r\nL 242.889181 147.864735 \r\nL 235.216148 147.864735 \r\nz\r\n\" style=\"fill:#008000;\"/>\r\n   </g>\r\n   <g id=\"patch_23\">\r\n    <path clip-path=\"url(#p99b8a2477d)\" d=\"M 260.792924 224.64 \r\nL 268.465957 224.64 \r\nL 268.465957 156.579765 \r\nL 260.792924 156.579765 \r\nz\r\n\" style=\"fill:#008000;\"/>\r\n   </g>\r\n   <g id=\"patch_24\">\r\n    <path clip-path=\"url(#p99b8a2477d)\" d=\"M 286.3697 224.64 \r\nL 294.042733 224.64 \r\nL 294.042733 32.909339 \r\nL 286.3697 32.909339 \r\nz\r\n\" style=\"fill:#008000;\"/>\r\n   </g>\r\n   <g id=\"patch_25\">\r\n    <path clip-path=\"url(#p99b8a2477d)\" d=\"M 311.946476 224.64 \r\nL 319.619509 224.64 \r\nL 319.619509 32.494337 \r\nL 311.946476 32.494337 \r\nz\r\n\" style=\"fill:#008000;\"/>\r\n   </g>\r\n   <g id=\"patch_26\">\r\n    <path clip-path=\"url(#p99b8a2477d)\" d=\"M 337.523252 224.64 \r\nL 345.196285 224.64 \r\nL 345.196285 30.41933 \r\nL 337.523252 30.41933 \r\nz\r\n\" style=\"fill:#008000;\"/>\r\n   </g>\r\n   <g id=\"patch_27\">\r\n    <path clip-path=\"url(#p99b8a2477d)\" d=\"M 63.851748 224.64 \r\nL 71.52478 224.64 \r\nL 71.52478 17.554286 \r\nL 63.851748 17.554286 \r\nz\r\n\" style=\"fill:#ff0000;\"/>\r\n   </g>\r\n   <g id=\"patch_28\">\r\n    <path clip-path=\"url(#p99b8a2477d)\" d=\"M 89.428524 224.64 \r\nL 97.101557 224.64 \r\nL 97.101557 30.004329 \r\nL 89.428524 30.004329 \r\nz\r\n\" style=\"fill:#ff0000;\"/>\r\n   </g>\r\n   <g id=\"patch_29\">\r\n    <path clip-path=\"url(#p99b8a2477d)\" d=\"M 115.0053 224.64 \r\nL 122.678333 224.64 \r\nL 122.678333 30.41933 \r\nL 115.0053 30.41933 \r\nz\r\n\" style=\"fill:#ff0000;\"/>\r\n   </g>\r\n   <g id=\"patch_30\">\r\n    <path clip-path=\"url(#p99b8a2477d)\" d=\"M 140.582076 224.64 \r\nL 148.255109 224.64 \r\nL 148.255109 24.60931 \r\nL 140.582076 24.60931 \r\nz\r\n\" style=\"fill:#ff0000;\"/>\r\n   </g>\r\n   <g id=\"patch_31\">\r\n    <path clip-path=\"url(#p99b8a2477d)\" d=\"M 166.158852 224.64 \r\nL 173.831885 224.64 \r\nL 173.831885 103.459582 \r\nL 166.158852 103.459582 \r\nz\r\n\" style=\"fill:#ff0000;\"/>\r\n   </g>\r\n   <g id=\"patch_32\">\r\n    <path clip-path=\"url(#p99b8a2477d)\" d=\"M 191.735628 224.64 \r\nL 199.408661 224.64 \r\nL 199.408661 224.64 \r\nL 191.735628 224.64 \r\nz\r\n\" style=\"fill:#ff0000;\"/>\r\n   </g>\r\n   <g id=\"patch_33\">\r\n    <path clip-path=\"url(#p99b8a2477d)\" d=\"M 217.312405 224.64 \r\nL 224.985437 224.64 \r\nL 224.985437 224.64 \r\nL 217.312405 224.64 \r\nz\r\n\" style=\"fill:#ff0000;\"/>\r\n   </g>\r\n   <g id=\"patch_34\">\r\n    <path clip-path=\"url(#p99b8a2477d)\" d=\"M 242.889181 224.64 \r\nL 250.562214 224.64 \r\nL 250.562214 224.64 \r\nL 242.889181 224.64 \r\nz\r\n\" style=\"fill:#ff0000;\"/>\r\n   </g>\r\n   <g id=\"patch_35\">\r\n    <path clip-path=\"url(#p99b8a2477d)\" d=\"M 268.465957 224.64 \r\nL 276.13899 224.64 \r\nL 276.13899 224.64 \r\nL 268.465957 224.64 \r\nz\r\n\" style=\"fill:#ff0000;\"/>\r\n   </g>\r\n   <g id=\"patch_36\">\r\n    <path clip-path=\"url(#p99b8a2477d)\" d=\"M 294.042733 224.64 \r\nL 301.715766 224.64 \r\nL 301.715766 224.64 \r\nL 294.042733 224.64 \r\nz\r\n\" style=\"fill:#ff0000;\"/>\r\n   </g>\r\n   <g id=\"patch_37\">\r\n    <path clip-path=\"url(#p99b8a2477d)\" d=\"M 319.619509 224.64 \r\nL 327.292542 224.64 \r\nL 327.292542 224.64 \r\nL 319.619509 224.64 \r\nz\r\n\" style=\"fill:#ff0000;\"/>\r\n   </g>\r\n   <g id=\"patch_38\">\r\n    <path clip-path=\"url(#p99b8a2477d)\" d=\"M 345.196285 224.64 \r\nL 352.869318 224.64 \r\nL 352.869318 224.64 \r\nL 345.196285 224.64 \r\nz\r\n\" style=\"fill:#ff0000;\"/>\r\n   </g>\r\n   <g id=\"matplotlib.axis_1\">\r\n    <g id=\"xtick_1\">\r\n     <g id=\"line2d_1\">\r\n      <defs>\r\n       <path d=\"M 0 0 \r\nL 0 3.5 \r\n\" id=\"m0343a07967\" style=\"stroke:#000000;stroke-width:0.8;\"/>\r\n      </defs>\r\n      <g>\r\n       <use style=\"stroke:#000000;stroke-width:0.8;\" x=\"52.342198\" xlink:href=\"#m0343a07967\" y=\"224.64\"/>\r\n      </g>\r\n     </g>\r\n     <g id=\"text_1\">\r\n      <!-- 0 -->\r\n      <defs>\r\n       <path d=\"M 31.78125 66.40625 \r\nQ 24.171875 66.40625 20.328125 58.90625 \r\nQ 16.5 51.421875 16.5 36.375 \r\nQ 16.5 21.390625 20.328125 13.890625 \r\nQ 24.171875 6.390625 31.78125 6.390625 \r\nQ 39.453125 6.390625 43.28125 13.890625 \r\nQ 47.125 21.390625 47.125 36.375 \r\nQ 47.125 51.421875 43.28125 58.90625 \r\nQ 39.453125 66.40625 31.78125 66.40625 \r\nz\r\nM 31.78125 74.21875 \r\nQ 44.046875 74.21875 50.515625 64.515625 \r\nQ 56.984375 54.828125 56.984375 36.375 \r\nQ 56.984375 17.96875 50.515625 8.265625 \r\nQ 44.046875 -1.421875 31.78125 -1.421875 \r\nQ 19.53125 -1.421875 13.0625 8.265625 \r\nQ 6.59375 17.96875 6.59375 36.375 \r\nQ 6.59375 54.828125 13.0625 64.515625 \r\nQ 19.53125 74.21875 31.78125 74.21875 \r\nz\r\n\" id=\"DejaVuSans-48\"/>\r\n      </defs>\r\n      <g transform=\"translate(49.160948 239.238437)scale(0.1 -0.1)\">\r\n       <use xlink:href=\"#DejaVuSans-48\"/>\r\n      </g>\r\n     </g>\r\n    </g>\r\n    <g id=\"xtick_2\">\r\n     <g id=\"line2d_2\">\r\n      <g>\r\n       <use style=\"stroke:#000000;stroke-width:0.8;\" x=\"103.495751\" xlink:href=\"#m0343a07967\" y=\"224.64\"/>\r\n      </g>\r\n     </g>\r\n     <g id=\"text_2\">\r\n      <!-- 2 -->\r\n      <defs>\r\n       <path d=\"M 19.1875 8.296875 \r\nL 53.609375 8.296875 \r\nL 53.609375 0 \r\nL 7.328125 0 \r\nL 7.328125 8.296875 \r\nQ 12.9375 14.109375 22.625 23.890625 \r\nQ 32.328125 33.6875 34.8125 36.53125 \r\nQ 39.546875 41.84375 41.421875 45.53125 \r\nQ 43.3125 49.21875 43.3125 52.78125 \r\nQ 43.3125 58.59375 39.234375 62.25 \r\nQ 35.15625 65.921875 28.609375 65.921875 \r\nQ 23.96875 65.921875 18.8125 64.3125 \r\nQ 13.671875 62.703125 7.8125 59.421875 \r\nL 7.8125 69.390625 \r\nQ 13.765625 71.78125 18.9375 73 \r\nQ 24.125 74.21875 28.421875 74.21875 \r\nQ 39.75 74.21875 46.484375 68.546875 \r\nQ 53.21875 62.890625 53.21875 53.421875 \r\nQ 53.21875 48.921875 51.53125 44.890625 \r\nQ 49.859375 40.875 45.40625 35.40625 \r\nQ 44.1875 33.984375 37.640625 27.21875 \r\nQ 31.109375 20.453125 19.1875 8.296875 \r\nz\r\n\" id=\"DejaVuSans-50\"/>\r\n      </defs>\r\n      <g transform=\"translate(100.314501 239.238437)scale(0.1 -0.1)\">\r\n       <use xlink:href=\"#DejaVuSans-50\"/>\r\n      </g>\r\n     </g>\r\n    </g>\r\n    <g id=\"xtick_3\">\r\n     <g id=\"line2d_3\">\r\n      <g>\r\n       <use style=\"stroke:#000000;stroke-width:0.8;\" x=\"154.649303\" xlink:href=\"#m0343a07967\" y=\"224.64\"/>\r\n      </g>\r\n     </g>\r\n     <g id=\"text_3\">\r\n      <!-- 4 -->\r\n      <defs>\r\n       <path d=\"M 37.796875 64.3125 \r\nL 12.890625 25.390625 \r\nL 37.796875 25.390625 \r\nz\r\nM 35.203125 72.90625 \r\nL 47.609375 72.90625 \r\nL 47.609375 25.390625 \r\nL 58.015625 25.390625 \r\nL 58.015625 17.1875 \r\nL 47.609375 17.1875 \r\nL 47.609375 0 \r\nL 37.796875 0 \r\nL 37.796875 17.1875 \r\nL 4.890625 17.1875 \r\nL 4.890625 26.703125 \r\nz\r\n\" id=\"DejaVuSans-52\"/>\r\n      </defs>\r\n      <g transform=\"translate(151.468053 239.238437)scale(0.1 -0.1)\">\r\n       <use xlink:href=\"#DejaVuSans-52\"/>\r\n      </g>\r\n     </g>\r\n    </g>\r\n    <g id=\"xtick_4\">\r\n     <g id=\"line2d_4\">\r\n      <g>\r\n       <use style=\"stroke:#000000;stroke-width:0.8;\" x=\"205.802855\" xlink:href=\"#m0343a07967\" y=\"224.64\"/>\r\n      </g>\r\n     </g>\r\n     <g id=\"text_4\">\r\n      <!-- 6 -->\r\n      <defs>\r\n       <path d=\"M 33.015625 40.375 \r\nQ 26.375 40.375 22.484375 35.828125 \r\nQ 18.609375 31.296875 18.609375 23.390625 \r\nQ 18.609375 15.53125 22.484375 10.953125 \r\nQ 26.375 6.390625 33.015625 6.390625 \r\nQ 39.65625 6.390625 43.53125 10.953125 \r\nQ 47.40625 15.53125 47.40625 23.390625 \r\nQ 47.40625 31.296875 43.53125 35.828125 \r\nQ 39.65625 40.375 33.015625 40.375 \r\nz\r\nM 52.59375 71.296875 \r\nL 52.59375 62.3125 \r\nQ 48.875 64.0625 45.09375 64.984375 \r\nQ 41.3125 65.921875 37.59375 65.921875 \r\nQ 27.828125 65.921875 22.671875 59.328125 \r\nQ 17.53125 52.734375 16.796875 39.40625 \r\nQ 19.671875 43.65625 24.015625 45.921875 \r\nQ 28.375 48.1875 33.59375 48.1875 \r\nQ 44.578125 48.1875 50.953125 41.515625 \r\nQ 57.328125 34.859375 57.328125 23.390625 \r\nQ 57.328125 12.15625 50.6875 5.359375 \r\nQ 44.046875 -1.421875 33.015625 -1.421875 \r\nQ 20.359375 -1.421875 13.671875 8.265625 \r\nQ 6.984375 17.96875 6.984375 36.375 \r\nQ 6.984375 53.65625 15.1875 63.9375 \r\nQ 23.390625 74.21875 37.203125 74.21875 \r\nQ 40.921875 74.21875 44.703125 73.484375 \r\nQ 48.484375 72.75 52.59375 71.296875 \r\nz\r\n\" id=\"DejaVuSans-54\"/>\r\n      </defs>\r\n      <g transform=\"translate(202.621605 239.238437)scale(0.1 -0.1)\">\r\n       <use xlink:href=\"#DejaVuSans-54\"/>\r\n      </g>\r\n     </g>\r\n    </g>\r\n    <g id=\"xtick_5\">\r\n     <g id=\"line2d_5\">\r\n      <g>\r\n       <use style=\"stroke:#000000;stroke-width:0.8;\" x=\"256.956408\" xlink:href=\"#m0343a07967\" y=\"224.64\"/>\r\n      </g>\r\n     </g>\r\n     <g id=\"text_5\">\r\n      <!-- 8 -->\r\n      <defs>\r\n       <path d=\"M 31.78125 34.625 \r\nQ 24.75 34.625 20.71875 30.859375 \r\nQ 16.703125 27.09375 16.703125 20.515625 \r\nQ 16.703125 13.921875 20.71875 10.15625 \r\nQ 24.75 6.390625 31.78125 6.390625 \r\nQ 38.8125 6.390625 42.859375 10.171875 \r\nQ 46.921875 13.96875 46.921875 20.515625 \r\nQ 46.921875 27.09375 42.890625 30.859375 \r\nQ 38.875 34.625 31.78125 34.625 \r\nz\r\nM 21.921875 38.8125 \r\nQ 15.578125 40.375 12.03125 44.71875 \r\nQ 8.5 49.078125 8.5 55.328125 \r\nQ 8.5 64.0625 14.71875 69.140625 \r\nQ 20.953125 74.21875 31.78125 74.21875 \r\nQ 42.671875 74.21875 48.875 69.140625 \r\nQ 55.078125 64.0625 55.078125 55.328125 \r\nQ 55.078125 49.078125 51.53125 44.71875 \r\nQ 48 40.375 41.703125 38.8125 \r\nQ 48.828125 37.15625 52.796875 32.3125 \r\nQ 56.78125 27.484375 56.78125 20.515625 \r\nQ 56.78125 9.90625 50.3125 4.234375 \r\nQ 43.84375 -1.421875 31.78125 -1.421875 \r\nQ 19.734375 -1.421875 13.25 4.234375 \r\nQ 6.78125 9.90625 6.78125 20.515625 \r\nQ 6.78125 27.484375 10.78125 32.3125 \r\nQ 14.796875 37.15625 21.921875 38.8125 \r\nz\r\nM 18.3125 54.390625 \r\nQ 18.3125 48.734375 21.84375 45.5625 \r\nQ 25.390625 42.390625 31.78125 42.390625 \r\nQ 38.140625 42.390625 41.71875 45.5625 \r\nQ 45.3125 48.734375 45.3125 54.390625 \r\nQ 45.3125 60.0625 41.71875 63.234375 \r\nQ 38.140625 66.40625 31.78125 66.40625 \r\nQ 25.390625 66.40625 21.84375 63.234375 \r\nQ 18.3125 60.0625 18.3125 54.390625 \r\nz\r\n\" id=\"DejaVuSans-56\"/>\r\n      </defs>\r\n      <g transform=\"translate(253.775158 239.238437)scale(0.1 -0.1)\">\r\n       <use xlink:href=\"#DejaVuSans-56\"/>\r\n      </g>\r\n     </g>\r\n    </g>\r\n    <g id=\"xtick_6\">\r\n     <g id=\"line2d_6\">\r\n      <g>\r\n       <use style=\"stroke:#000000;stroke-width:0.8;\" x=\"308.10996\" xlink:href=\"#m0343a07967\" y=\"224.64\"/>\r\n      </g>\r\n     </g>\r\n     <g id=\"text_6\">\r\n      <!-- 10 -->\r\n      <defs>\r\n       <path d=\"M 12.40625 8.296875 \r\nL 28.515625 8.296875 \r\nL 28.515625 63.921875 \r\nL 10.984375 60.40625 \r\nL 10.984375 69.390625 \r\nL 28.421875 72.90625 \r\nL 38.28125 72.90625 \r\nL 38.28125 8.296875 \r\nL 54.390625 8.296875 \r\nL 54.390625 0 \r\nL 12.40625 0 \r\nz\r\n\" id=\"DejaVuSans-49\"/>\r\n      </defs>\r\n      <g transform=\"translate(301.74746 239.238437)scale(0.1 -0.1)\">\r\n       <use xlink:href=\"#DejaVuSans-49\"/>\r\n       <use x=\"63.623047\" xlink:href=\"#DejaVuSans-48\"/>\r\n      </g>\r\n     </g>\r\n    </g>\r\n    <g id=\"xtick_7\">\r\n     <g id=\"line2d_7\">\r\n      <g>\r\n       <use style=\"stroke:#000000;stroke-width:0.8;\" x=\"359.263512\" xlink:href=\"#m0343a07967\" y=\"224.64\"/>\r\n      </g>\r\n     </g>\r\n     <g id=\"text_7\">\r\n      <!-- 12 -->\r\n      <g transform=\"translate(352.901012 239.238437)scale(0.1 -0.1)\">\r\n       <use xlink:href=\"#DejaVuSans-49\"/>\r\n       <use x=\"63.623047\" xlink:href=\"#DejaVuSans-50\"/>\r\n      </g>\r\n     </g>\r\n    </g>\r\n   </g>\r\n   <g id=\"matplotlib.axis_2\">\r\n    <g id=\"ytick_1\">\r\n     <g id=\"line2d_8\">\r\n      <defs>\r\n       <path d=\"M 0 0 \r\nL -3.5 0 \r\n\" id=\"m08af9fc1bd\" style=\"stroke:#000000;stroke-width:0.8;\"/>\r\n      </defs>\r\n      <g>\r\n       <use style=\"stroke:#000000;stroke-width:0.8;\" x=\"33.2875\" xlink:href=\"#m08af9fc1bd\" y=\"224.64\"/>\r\n      </g>\r\n     </g>\r\n     <g id=\"text_8\">\r\n      <!-- 0 -->\r\n      <g transform=\"translate(19.925 228.439219)scale(0.1 -0.1)\">\r\n       <use xlink:href=\"#DejaVuSans-48\"/>\r\n      </g>\r\n     </g>\r\n    </g>\r\n    <g id=\"ytick_2\">\r\n     <g id=\"line2d_9\">\r\n      <g>\r\n       <use style=\"stroke:#000000;stroke-width:0.8;\" x=\"33.2875\" xlink:href=\"#m08af9fc1bd\" y=\"183.139857\"/>\r\n      </g>\r\n     </g>\r\n     <g id=\"text_9\">\r\n      <!-- 100 -->\r\n      <g transform=\"translate(7.2 186.939076)scale(0.1 -0.1)\">\r\n       <use xlink:href=\"#DejaVuSans-49\"/>\r\n       <use x=\"63.623047\" xlink:href=\"#DejaVuSans-48\"/>\r\n       <use x=\"127.246094\" xlink:href=\"#DejaVuSans-48\"/>\r\n      </g>\r\n     </g>\r\n    </g>\r\n    <g id=\"ytick_3\">\r\n     <g id=\"line2d_10\">\r\n      <g>\r\n       <use style=\"stroke:#000000;stroke-width:0.8;\" x=\"33.2875\" xlink:href=\"#m08af9fc1bd\" y=\"141.639714\"/>\r\n      </g>\r\n     </g>\r\n     <g id=\"text_10\">\r\n      <!-- 200 -->\r\n      <g transform=\"translate(7.2 145.438932)scale(0.1 -0.1)\">\r\n       <use xlink:href=\"#DejaVuSans-50\"/>\r\n       <use x=\"63.623047\" xlink:href=\"#DejaVuSans-48\"/>\r\n       <use x=\"127.246094\" xlink:href=\"#DejaVuSans-48\"/>\r\n      </g>\r\n     </g>\r\n    </g>\r\n    <g id=\"ytick_4\">\r\n     <g id=\"line2d_11\">\r\n      <g>\r\n       <use style=\"stroke:#000000;stroke-width:0.8;\" x=\"33.2875\" xlink:href=\"#m08af9fc1bd\" y=\"100.139571\"/>\r\n      </g>\r\n     </g>\r\n     <g id=\"text_11\">\r\n      <!-- 300 -->\r\n      <defs>\r\n       <path d=\"M 40.578125 39.3125 \r\nQ 47.65625 37.796875 51.625 33 \r\nQ 55.609375 28.21875 55.609375 21.1875 \r\nQ 55.609375 10.40625 48.1875 4.484375 \r\nQ 40.765625 -1.421875 27.09375 -1.421875 \r\nQ 22.515625 -1.421875 17.65625 -0.515625 \r\nQ 12.796875 0.390625 7.625 2.203125 \r\nL 7.625 11.71875 \r\nQ 11.71875 9.328125 16.59375 8.109375 \r\nQ 21.484375 6.890625 26.8125 6.890625 \r\nQ 36.078125 6.890625 40.9375 10.546875 \r\nQ 45.796875 14.203125 45.796875 21.1875 \r\nQ 45.796875 27.640625 41.28125 31.265625 \r\nQ 36.765625 34.90625 28.71875 34.90625 \r\nL 20.21875 34.90625 \r\nL 20.21875 43.015625 \r\nL 29.109375 43.015625 \r\nQ 36.375 43.015625 40.234375 45.921875 \r\nQ 44.09375 48.828125 44.09375 54.296875 \r\nQ 44.09375 59.90625 40.109375 62.90625 \r\nQ 36.140625 65.921875 28.71875 65.921875 \r\nQ 24.65625 65.921875 20.015625 65.03125 \r\nQ 15.375 64.15625 9.8125 62.3125 \r\nL 9.8125 71.09375 \r\nQ 15.4375 72.65625 20.34375 73.4375 \r\nQ 25.25 74.21875 29.59375 74.21875 \r\nQ 40.828125 74.21875 47.359375 69.109375 \r\nQ 53.90625 64.015625 53.90625 55.328125 \r\nQ 53.90625 49.265625 50.4375 45.09375 \r\nQ 46.96875 40.921875 40.578125 39.3125 \r\nz\r\n\" id=\"DejaVuSans-51\"/>\r\n      </defs>\r\n      <g transform=\"translate(7.2 103.938789)scale(0.1 -0.1)\">\r\n       <use xlink:href=\"#DejaVuSans-51\"/>\r\n       <use x=\"63.623047\" xlink:href=\"#DejaVuSans-48\"/>\r\n       <use x=\"127.246094\" xlink:href=\"#DejaVuSans-48\"/>\r\n      </g>\r\n     </g>\r\n    </g>\r\n    <g id=\"ytick_5\">\r\n     <g id=\"line2d_12\">\r\n      <g>\r\n       <use style=\"stroke:#000000;stroke-width:0.8;\" x=\"33.2875\" xlink:href=\"#m08af9fc1bd\" y=\"58.639427\"/>\r\n      </g>\r\n     </g>\r\n     <g id=\"text_12\">\r\n      <!-- 400 -->\r\n      <g transform=\"translate(7.2 62.438646)scale(0.1 -0.1)\">\r\n       <use xlink:href=\"#DejaVuSans-52\"/>\r\n       <use x=\"63.623047\" xlink:href=\"#DejaVuSans-48\"/>\r\n       <use x=\"127.246094\" xlink:href=\"#DejaVuSans-48\"/>\r\n      </g>\r\n     </g>\r\n    </g>\r\n    <g id=\"ytick_6\">\r\n     <g id=\"line2d_13\">\r\n      <g>\r\n       <use style=\"stroke:#000000;stroke-width:0.8;\" x=\"33.2875\" xlink:href=\"#m08af9fc1bd\" y=\"17.139284\"/>\r\n      </g>\r\n     </g>\r\n     <g id=\"text_13\">\r\n      <!-- 500 -->\r\n      <defs>\r\n       <path d=\"M 10.796875 72.90625 \r\nL 49.515625 72.90625 \r\nL 49.515625 64.59375 \r\nL 19.828125 64.59375 \r\nL 19.828125 46.734375 \r\nQ 21.96875 47.46875 24.109375 47.828125 \r\nQ 26.265625 48.1875 28.421875 48.1875 \r\nQ 40.625 48.1875 47.75 41.5 \r\nQ 54.890625 34.8125 54.890625 23.390625 \r\nQ 54.890625 11.625 47.5625 5.09375 \r\nQ 40.234375 -1.421875 26.90625 -1.421875 \r\nQ 22.3125 -1.421875 17.546875 -0.640625 \r\nQ 12.796875 0.140625 7.71875 1.703125 \r\nL 7.71875 11.625 \r\nQ 12.109375 9.234375 16.796875 8.0625 \r\nQ 21.484375 6.890625 26.703125 6.890625 \r\nQ 35.15625 6.890625 40.078125 11.328125 \r\nQ 45.015625 15.765625 45.015625 23.390625 \r\nQ 45.015625 31 40.078125 35.4375 \r\nQ 35.15625 39.890625 26.703125 39.890625 \r\nQ 22.75 39.890625 18.8125 39.015625 \r\nQ 14.890625 38.140625 10.796875 36.28125 \r\nz\r\n\" id=\"DejaVuSans-53\"/>\r\n      </defs>\r\n      <g transform=\"translate(7.2 20.938503)scale(0.1 -0.1)\">\r\n       <use xlink:href=\"#DejaVuSans-53\"/>\r\n       <use x=\"63.623047\" xlink:href=\"#DejaVuSans-48\"/>\r\n       <use x=\"127.246094\" xlink:href=\"#DejaVuSans-48\"/>\r\n      </g>\r\n     </g>\r\n    </g>\r\n   </g>\r\n   <g id=\"patch_39\">\r\n    <path d=\"M 33.2875 224.64 \r\nL 33.2875 7.2 \r\n\" style=\"fill:none;stroke:#000000;stroke-linecap:square;stroke-linejoin:miter;stroke-width:0.8;\"/>\r\n   </g>\r\n   <g id=\"patch_40\">\r\n    <path d=\"M 368.0875 224.64 \r\nL 368.0875 7.2 \r\n\" style=\"fill:none;stroke:#000000;stroke-linecap:square;stroke-linejoin:miter;stroke-width:0.8;\"/>\r\n   </g>\r\n   <g id=\"patch_41\">\r\n    <path d=\"M 33.2875 224.64 \r\nL 368.0875 224.64 \r\n\" style=\"fill:none;stroke:#000000;stroke-linecap:square;stroke-linejoin:miter;stroke-width:0.8;\"/>\r\n   </g>\r\n   <g id=\"patch_42\">\r\n    <path d=\"M 33.2875 7.2 \r\nL 368.0875 7.2 \r\n\" style=\"fill:none;stroke:#000000;stroke-linecap:square;stroke-linejoin:miter;stroke-width:0.8;\"/>\r\n   </g>\r\n  </g>\r\n </g>\r\n <defs>\r\n  <clipPath id=\"p99b8a2477d\">\r\n   <rect height=\"217.44\" width=\"334.8\" x=\"33.2875\" y=\"7.2\"/>\r\n  </clipPath>\r\n </defs>\r\n</svg>\r\n",
      "image/png": "[encoded data removed]"
     },
     "metadata": {
      "needs_background": "light"
     }
    }
   ],
   "source": [
    "# # The final processing I want to do is to try using dictVectorization on the description and try \n",
    "# # TF_IDF score as well. Before splitting into 2 datasets (vectorizatoin vs TF_IDF) I want to split train and validation sets.\n",
    "# # Because this is with time data I want the train and validation set to have an equal mix from each season.\n",
    "\n",
    "data_2017_monthly = []\n",
    "data_2018_monthly = []\n",
    "data_2019_monthly = []\n",
    "\n",
    "for year in [2017, 2018, 2019]:\n",
    "    data_year = processed_data_vect[processed_data_vect['Year'] == year] \n",
    "    for i in range(1, 13):\n",
    "        if year == 2017:\n",
    "            data_2017_monthly.append(len(data_year[data_year['Month'] == i]))\n",
    "        elif year == 2018:\n",
    "            data_2018_monthly.append(len(data_year[data_year['Month'] == i]))\n",
    "        else:\n",
    "            data_2019_monthly.append(len(data_year[data_year['Month'] == i]))\n",
    "\n",
    "width = 0.3\n",
    "plt.bar(np.arange(len(data_2017_monthly)), data_2017_monthly, width=width, color='b')\n",
    "plt.bar(np.arange(len(data_2018_monthly)) + width, data_2018_monthly, width=width, color='g')\n",
    "plt.bar(np.arange(len(data_2019_monthly)) + 2 * width, data_2019_monthly, width=width, color='r')\n",
    "\n",
    "plt.show()"
   ]
  },
  {
   "cell_type": "markdown",
   "metadata": {},
   "source": [
    "We can see we have a lot of posts from different times. Let's think about why this is important.\n",
    "\n",
    "Instagram pages tend to grow over time, so if we train only on 2017 data, we will be inaccurate in 2019 because of organic growth.\n",
    "\n",
    "We can see from the bar chart there are signifigantly less posts from 06 - 09. This is because this is the NBA off season.\n",
    "\n",
    "I won't plot it but it would be fair to assume engagements are also low beacause there is very little content to post.\n",
    "\n",
    "If we fail to train on those summer months or only train on those summer months we will miss that relationship.\n",
    "\n",
    "I wanted my training set to be 75% of the data and my validation to be 30%. \n",
    "\n",
    "In order to capture the relationships outlined above I took the 75-25 ratio for each month of data."
   ]
  },
  {
   "cell_type": "code",
   "execution_count": 24,
   "metadata": {
    "tags": [
     "outputPrepend",
     "outputPrepend"
    ]
   },
   "outputs": [
    {
     "output_type": "stream",
     "name": "stdout",
     "text": "(5819, 7298)\n"
    },
    {
     "output_type": "execute_result",
     "data": {
      "text/plain": "(1947, 7298)"
     },
     "metadata": {},
     "execution_count": 24
    }
   ],
   "source": [
    "# The training set will be 75% of the data\n",
    "# 75% of posts for each month will go to training to get 75-25 ratio\n",
    "train_data_processed = pd.DataFrame(columns=list(processed_data_vect.columns))\n",
    "validation_data_processed = pd.DataFrame(columns=list(processed_data_vect.columns))\n",
    "\n",
    "years = [2017, 2018, 2019]\n",
    "\n",
    "for year in years:\n",
    "    data_year = processed_data_vect[processed_data_vect['Year'] == year]\n",
    "    for month in range(1, 13):\n",
    "        data_month = data_year[data_year['Month'] == month]\n",
    "        if len(data_month) > 0:\n",
    "            train, validation = train_test_split(data_month, test_size=0.25)\n",
    "            train_data_processed = train_data_processed.append(train, ignore_index=True)\n",
    "            validation_data_processed = validation_data_processed.append(validation, ignore_index=True)\n",
    "            \n",
    "print(train_data_processed.shape)\n",
    "validation_data_processed.shape"
   ]
  },
  {
   "cell_type": "code",
   "execution_count": 49,
   "metadata": {},
   "outputs": [
    {
     "output_type": "stream",
     "name": "stdout",
     "text": "(5819, 7482)\n"
    },
    {
     "output_type": "execute_result",
     "data": {
      "text/plain": "(1947, 7482)"
     },
     "metadata": {},
     "execution_count": 49
    }
   ],
   "source": [
    "# The training set will be 70% of the data\n",
    "# 70% of posts for each month will go to training to get 70-30 ratio\n",
    "train_data_dummy = pd.DataFrame(columns=list(dummy_data_vect.columns))\n",
    "validation_data_dummy = pd.DataFrame(columns=list(dummy_data_vect.columns))\n",
    "\n",
    "years = [2017, 2018, 2019]\n",
    "\n",
    "for year in years:\n",
    "    data_year = dummy_data_vect[dummy_data_vect['Year_' + str(year)] == 1]\n",
    "    for month in range(1, 13):\n",
    "        if month < 10:\n",
    "            month = '0' + str(month)\n",
    "        data_month = data_year[data_year['Month_' + str(month)] == 1]\n",
    "        if len(data_month) > 0:\n",
    "            train, validation = train_test_split(data_month, test_size=0.25)\n",
    "            train_data_dummy = train_data_dummy.append(train, ignore_index=True)\n",
    "            validation_data_dummy = validation_data_dummy.append(validation, ignore_index=True)\n",
    "            \n",
    "print(train_data_dummy.shape)\n",
    "validation_data_dummy.shape"
   ]
  },
  {
   "cell_type": "markdown",
   "metadata": {},
   "source": [
    "We now have 5819 posts for training and 1947 posts for validating for each set.\n",
    "\n",
    "We can also be fairly certain our training and validation sets are balanced to account for differences in time!"
   ]
  },
  {
   "cell_type": "markdown",
   "metadata": {},
   "source": [
    "## Using the Models"
   ]
  },
  {
   "cell_type": "markdown",
   "metadata": {},
   "source": [
    "Lets get the names of all the features we need."
   ]
  },
  {
   "cell_type": "code",
   "execution_count": 50,
   "metadata": {},
   "outputs": [],
   "source": [
    "features_processed = list(train_data_processed.columns)\n",
    "features_processed.remove('Engagements')\n",
    "features_processed.remove('word_count')\n",
    "\n",
    "features_dummy = list(train_data_dummy.columns)\n",
    "features_dummy.remove('Engagements')\n",
    "features_dummy.remove('word_count')\n",
    "\n",
    "target = ['Engagements']"
   ]
  },
  {
   "cell_type": "markdown",
   "metadata": {},
   "source": [
    "Taking a guess I would expect Random Forest and Adaboost to perform the best since I am almost certain the relationship is nonlinear."
   ]
  },
  {
   "cell_type": "code",
   "execution_count": 30,
   "metadata": {},
   "outputs": [
    {
     "output_type": "execute_result",
     "data": {
      "text/plain": "0.09272168500360255"
     },
     "metadata": {},
     "execution_count": 30
    }
   ],
   "source": [
    "from sklearn.ensemble import RandomForestRegressor\n",
    "from sklearn.metrics import mean_squared_error\n",
    "\n",
    "rf = RandomForestRegressor()\n",
    "rf.fit(train_data_processed[features_processed], train_data_processed[target])\n",
    "\n",
    "predictions = rf.predict(validation_data_processed[features_processed])\n",
    "mean_squared_error(validation_data_processed[target], predictions)"
   ]
  },
  {
   "cell_type": "code",
   "execution_count": 51,
   "metadata": {},
   "outputs": [
    {
     "output_type": "execute_result",
     "data": {
      "text/plain": "0.08632575849256786"
     },
     "metadata": {},
     "execution_count": 51
    }
   ],
   "source": [
    "rf.fit(train_data_dummy[features_dummy], train_data_dummy[target])\n",
    "\n",
    "predictions = rf.predict(validation_data_dummy[features_dummy])\n",
    "mean_squared_error(validation_data_dummy[target], predictions)"
   ]
  },
  {
   "cell_type": "code",
   "execution_count": 57,
   "metadata": {},
   "outputs": [
    {
     "output_type": "execute_result",
     "data": {
      "text/plain": "0.19383062604052792"
     },
     "metadata": {},
     "execution_count": 57
    }
   ],
   "source": [
    "from sklearn.ensemble import AdaBoostRegressor\n",
    "\n",
    "ada = AdaBoostRegressor()\n",
    "ada.fit(train_data_processed[features_processed], train_data_processed[target])\n",
    "\n",
    "predictions = ada.predict(validation_data_processed[features_processed])\n",
    "mean_squared_error(validation_data_processed[target], predictions)"
   ]
  },
  {
   "cell_type": "code",
   "execution_count": 58,
   "metadata": {},
   "outputs": [
    {
     "output_type": "execute_result",
     "data": {
      "text/plain": "0.19174296443025207"
     },
     "metadata": {},
     "execution_count": 58
    }
   ],
   "source": [
    "ada.fit(train_data_dummy[features_dummy], train_data_dummy[target])\n",
    "\n",
    "predictions = ada.predict(validation_data_dummy[features_dummy])\n",
    "mean_squared_error(validation_data_dummy[target], predictions)"
   ]
  },
  {
   "cell_type": "markdown",
   "metadata": {},
   "source": [
    "We can see that RandomForest outperformed Adaboost and the **dummy_data** dataset worked better than the **processed_data** dataset.\n",
    "\n",
    "Now we can test out Linear models."
   ]
  },
  {
   "cell_type": "code",
   "execution_count": 55,
   "metadata": {},
   "outputs": [
    {
     "output_type": "execute_result",
     "data": {
      "text/plain": "1.1330911452542401e+18"
     },
     "metadata": {},
     "execution_count": 55
    }
   ],
   "source": [
    "from sklearn.linear_model import LinearRegression\n",
    "\n",
    "reg = LinearRegression()\n",
    "reg.fit(train_data_processed[features_processed], train_data_processed[target])\n",
    "\n",
    "predictions = reg.predict(validation_data_processed[features_processed])\n",
    "mean_squared_error(validation_data_processed[target], predictions)"
   ]
  },
  {
   "cell_type": "code",
   "execution_count": 56,
   "metadata": {},
   "outputs": [
    {
     "output_type": "execute_result",
     "data": {
      "text/plain": "7.941957627852141e+19"
     },
     "metadata": {},
     "execution_count": 56
    }
   ],
   "source": [
    "reg.fit(train_data_dummy[features_dummy], train_data_dummy[target])\n",
    "\n",
    "predictions = reg.predict(validation_data_dummy[features_dummy])\n",
    "mean_squared_error(validation_data_dummy[target], predictions)"
   ]
  },
  {
   "cell_type": "code",
   "execution_count": 59,
   "metadata": {},
   "outputs": [
    {
     "output_type": "execute_result",
     "data": {
      "text/plain": "0.16821450341994884"
     },
     "metadata": {},
     "execution_count": 59
    }
   ],
   "source": [
    "from sklearn.linear_model import Ridge\n",
    "\n",
    "ridge = Ridge()\n",
    "ridge.fit(train_data_processed[features_processed], train_data_processed[target])\n",
    "\n",
    "predictions = ridge.predict(validation_data_processed[features_processed])\n",
    "mean_squared_error(validation_data_processed[target], predictions)"
   ]
  },
  {
   "cell_type": "code",
   "execution_count": 60,
   "metadata": {},
   "outputs": [
    {
     "output_type": "execute_result",
     "data": {
      "text/plain": "0.15357345562447816"
     },
     "metadata": {},
     "execution_count": 60
    }
   ],
   "source": [
    "ridge.fit(train_data_dummy[features_dummy], train_data_dummy[target])\n",
    "\n",
    "predictions = ridge.predict(validation_data_dummy[features_dummy])\n",
    "mean_squared_error(validation_data_dummy[target], predictions)"
   ]
  },
  {
   "cell_type": "code",
   "execution_count": 61,
   "metadata": {},
   "outputs": [
    {
     "output_type": "execute_result",
     "data": {
      "text/plain": "0.9955155348348725"
     },
     "metadata": {},
     "execution_count": 61
    }
   ],
   "source": [
    "from sklearn.linear_model import Lasso\n",
    "\n",
    "lasso = Lasso()\n",
    "lasso.fit(train_data_processed[features_processed], train_data_processed[target])\n",
    "\n",
    "predictions = lasso.predict(validation_data_processed[features_processed])\n",
    "mean_squared_error(validation_data_processed[target], predictions)"
   ]
  },
  {
   "cell_type": "code",
   "execution_count": 62,
   "metadata": {},
   "outputs": [
    {
     "output_type": "execute_result",
     "data": {
      "text/plain": "0.9852190755641356"
     },
     "metadata": {},
     "execution_count": 62
    }
   ],
   "source": [
    "lasso.fit(train_data_dummy[features_dummy], train_data_dummy[target])\n",
    "\n",
    "predictions = lasso.predict(validation_data_dummy[features_dummy])\n",
    "mean_squared_error(validation_data_dummy[target], predictions)"
   ]
  },
  {
   "cell_type": "code",
   "execution_count": 63,
   "metadata": {},
   "outputs": [
    {
     "output_type": "execute_result",
     "data": {
      "text/plain": "0.9761124927174879"
     },
     "metadata": {},
     "execution_count": 63
    }
   ],
   "source": [
    "from sklearn.linear_model import ElasticNet\n",
    "\n",
    "en = ElasticNet()\n",
    "en.fit(train_data_processed[features_processed], train_data_processed[target])\n",
    "\n",
    "predictions = en.predict(validation_data_processed[features_processed])\n",
    "mean_squared_error(validation_data_processed[target], predictions)"
   ]
  },
  {
   "cell_type": "code",
   "execution_count": 65,
   "metadata": {},
   "outputs": [
    {
     "output_type": "execute_result",
     "data": {
      "text/plain": "0.9604046437342361"
     },
     "metadata": {},
     "execution_count": 65
    }
   ],
   "source": [
    "en.fit(train_data_dummy[features_dummy], train_data_dummy[target])\n",
    "\n",
    "predictions = en.predict(validation_data_dummy[features_dummy])\n",
    "mean_squared_error(validation_data_dummy[target], predictions)"
   ]
  },
  {
   "cell_type": "markdown",
   "metadata": {},
   "source": [
    "None of them performed particularly well. Having a MSE of around 1 means on average it is about a full standard deviation off... not too good."
   ]
  },
  {
   "cell_type": "code",
   "execution_count": null,
   "metadata": {},
   "outputs": [],
   "source": []
  }
 ],
 "metadata": {
  "language_info": {
   "codemirror_mode": {
    "name": "ipython",
    "version": 3
   },
   "file_extension": ".py",
   "mimetype": "text/x-python",
   "name": "python",
   "nbconvert_exporter": "python",
   "pygments_lexer": "ipython3",
   "version": "3.7.3-final"
  },
  "orig_nbformat": 2,
  "kernelspec": {
   "name": "python37364bitenvvenv5b23d70c0473448986dd1089812db388",
   "display_name": "Python 3.7.3 64-bit ('env': venv)"
  }
 },
 "nbformat": 4,
 "nbformat_minor": 2
}